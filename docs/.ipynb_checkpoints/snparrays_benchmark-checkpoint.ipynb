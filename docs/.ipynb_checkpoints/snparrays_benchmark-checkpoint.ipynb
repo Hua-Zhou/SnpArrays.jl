{
 "cells": [
  {
   "cell_type": "markdown",
   "metadata": {},
   "source": [
    "# SnpArrayBM - SnpArray Bench Mark"
   ]
  },
  {
   "cell_type": "markdown",
   "metadata": {},
   "source": [
    "Instead of storing genotype data as two BitArrays, SnpArrayBM stores genotype data as a 3-D (2 x number of people x number of SNPs) BitArray."
   ]
  },
  {
   "cell_type": "markdown",
   "metadata": {},
   "source": [
    "## Constructor - load from PLINK file"
   ]
  },
  {
   "cell_type": "code",
   "execution_count": 1,
   "metadata": {
    "collapsed": false
   },
   "outputs": [
    {
     "ename": "LoadError",
     "evalue": "LoadError: UndefVarError: SnpArray not defined\nwhile loading In[1], in expression starting on line 155",
     "output_type": "error",
     "traceback": [
      "LoadError: UndefVarError: SnpArray not defined\nwhile loading In[1], in expression starting on line 155",
      ""
     ]
    }
   ],
   "source": [
    "include(\"../src/SnpArrays.jl\")\n",
    "using SnpArrays\n",
    "@time sa = SnpArray(\"/home/huwenbo/Huwenbo/CG10kNhwHg19Clean_v2_Mar2013\")\n",
    "@time sabm = SnpArrayBM(\"/home/huwenbo/Huwenbo/CG10kNhwHg19Clean_v2_Mar2013\")"
   ]
  },
  {
   "cell_type": "code",
   "execution_count": null,
   "metadata": {
    "collapsed": true
   },
   "outputs": [],
   "source": []
  }
 ],
 "metadata": {
  "kernelspec": {
   "display_name": "Julia 0.4.5",
   "language": "julia",
   "name": "julia-0.4"
  },
  "language_info": {
   "file_extension": ".jl",
   "mimetype": "application/julia",
   "name": "julia",
   "version": "0.4.5"
  }
 },
 "nbformat": 4,
 "nbformat_minor": 0
}
