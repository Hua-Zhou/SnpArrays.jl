{
 "cells": [
  {
   "cell_type": "markdown",
   "metadata": {},
   "source": [
    "# SnpArrayBM - SnpArray Bench Mark"
   ]
  },
  {
   "cell_type": "markdown",
   "metadata": {},
   "source": [
    "Instead of storing genotype data as two BitArrays, SnpArrayBM stores genotype data as a 3-D (2 x number of people x number of SNPs) BitArray."
   ]
  },
  {
   "cell_type": "markdown",
   "metadata": {
    "collapsed": true
   },
   "source": [
    "```julia\n",
    "type SnpArrayBM{N} <: AbstractArray{NTuple{2, Bool}, N}\n",
    "  A::BitArray{N}\n",
    "end\n",
    "```"
   ]
  },
  {
   "cell_type": "markdown",
   "metadata": {},
   "source": [
    "## Constructor - load from PLINK file"
   ]
  },
  {
   "cell_type": "code",
   "execution_count": 15,
   "metadata": {
    "collapsed": false
   },
   "outputs": [
    {
     "name": "stdout",
     "output_type": "stream",
     "text": [
      " 96.138812 seconds (59.69 k allocations: 1.868 GB, 0.00% gc time)\n",
      " 84.119382 seconds (59.68 k allocations: 1.868 GB, 0.05% gc time)\n"
     ]
    }
   ],
   "source": [
    "include(\"../src/SnpArrays.jl\");\n",
    "using SnpArrays, BaseTestNext;\n",
    "@time sa = SnpArray(\"/home/huwenbo/Huwenbo/merge-geno\");\n",
    "@time sabm = SnpArrayBM(\"/home/huwenbo/Huwenbo/merge-geno\");\n",
    "#@time sa = SnpArray(\"../docs/hapmap3\");\n",
    "#@time sabm = SnpArrayBM(\"../docs/hapmap3\");"
   ]
  },
  {
   "cell_type": "markdown",
   "metadata": {},
   "source": [
    "## Test getindex"
   ]
  },
  {
   "cell_type": "code",
   "execution_count": 16,
   "metadata": {
    "collapsed": false
   },
   "outputs": [
    {
     "ename": "LoadError",
     "evalue": "LoadError: InterruptException:\nwhile loading In[16], in expression starting on line 2",
     "output_type": "error",
     "traceback": [
      "LoadError: InterruptException:\nwhile loading In[16], in expression starting on line 2",
      ""
     ]
    }
   ],
   "source": [
    "n,p = size(sa)\n",
    "for j=1:p\n",
    "    for i=1:n\n",
    "        @test sa[i,j] == sabm[i,j];\n",
    "    end\n",
    "end"
   ]
  },
  {
   "cell_type": "markdown",
   "metadata": {},
   "source": [
    "## Test summarize"
   ]
  },
  {
   "cell_type": "code",
   "execution_count": 17,
   "metadata": {
    "collapsed": false
   },
   "outputs": [
    {
     "ename": "LoadError",
     "evalue": "LoadError: InterruptException:\nwhile loading In[17], in expression starting on line 155",
     "output_type": "error",
     "traceback": [
      "LoadError: InterruptException:\nwhile loading In[17], in expression starting on line 155",
      ""
     ]
    }
   ],
   "source": [
    "@time maf1, _, _, _ = summarize(sa);\n",
    "@time maf2, _, _, _ = summarize(sabm);\n",
    "for i=1:n\n",
    "    @test maf1[i] == maf2[i];\n",
    "end"
   ]
  },
  {
   "cell_type": "markdown",
   "metadata": {
    "collapsed": true
   },
   "source": [
    "## Test GRM"
   ]
  },
  {
   "cell_type": "code",
   "execution_count": 10,
   "metadata": {
    "collapsed": false
   },
   "outputs": [
    {
     "name": "stdout",
     "output_type": "stream",
     "text": [
      "  0.089414 seconds (15 allocations: 35.231 MB, 2.36% gc time)\n",
      "  0.115643 seconds (15 allocations: 35.231 MB, 0.78% gc time)\n"
     ]
    }
   ],
   "source": [
    "@time grm(sa; method=:GRM);\n",
    "@time grm(sabm; method=:GRM);"
   ]
  },
  {
   "cell_type": "markdown",
   "metadata": {},
   "source": [
    "## Test MoM"
   ]
  },
  {
   "cell_type": "code",
   "execution_count": 12,
   "metadata": {
    "collapsed": false,
    "scrolled": true
   },
   "outputs": [
    {
     "name": "stdout",
     "output_type": "stream",
     "text": [
      "  0.154813 seconds (25 allocations: 35.448 MB, 0.38% gc time)\n",
      "  0.153242 seconds (25 allocations: 35.448 MB, 0.48% gc time)\n"
     ]
    }
   ],
   "source": [
    "@time grm(sa; method=:MoM);\n",
    "@time grm(sabm; method=:MoM);"
   ]
  },
  {
   "cell_type": "markdown",
   "metadata": {},
   "source": [
    "## Test PCA"
   ]
  },
  {
   "cell_type": "code",
   "execution_count": 14,
   "metadata": {
    "collapsed": false,
    "scrolled": true
   },
   "outputs": [
    {
     "name": "stdout",
     "output_type": "stream",
     "text": [
      "  1.500221 seconds (4.40 k allocations: 107.384 MB, 0.31% gc time)\n",
      "  1.226238 seconds (4.35 k allocations: 106.078 MB, 0.32% gc time)\n",
      "(v1[i],v2[i]) = (1841.7522294997564,1842.0407047024603)\n",
      "(v1[i],v2[i]) = (225.39405145690046,225.322770758455)\n",
      "(v1[i],v2[i]) = (70.75538155749713,70.72519076365089)\n",
      "(v1[i],v2[i]) = (70.04414646802702,70.02588410227875)\n",
      "(v1[i],v2[i]) = (68.93703888545778,69.03894912420597)\n",
      "(v1[i],v2[i]) = (67.87253240175895,67.79639778153326)\n"
     ]
    }
   ],
   "source": [
    "@time _, _, v1 = pca(sa);\n",
    "@time _, _, v2 = pca(sabm);\n",
    "for i=1:6\n",
    "    @show v1[i], v2[i]\n",
    "end"
   ]
  },
  {
   "cell_type": "code",
   "execution_count": null,
   "metadata": {
    "collapsed": true
   },
   "outputs": [],
   "source": []
  }
 ],
 "metadata": {
  "kernelspec": {
   "display_name": "Julia 0.4.5",
   "language": "julia",
   "name": "julia-0.4"
  },
  "language_info": {
   "file_extension": ".jl",
   "mimetype": "application/julia",
   "name": "julia",
   "version": "0.4.5"
  }
 },
 "nbformat": 4,
 "nbformat_minor": 0
}
