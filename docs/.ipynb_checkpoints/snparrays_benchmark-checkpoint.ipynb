{
 "cells": [
  {
   "cell_type": "markdown",
   "metadata": {},
   "source": [
    "# SnpArrayBM - SnpArray Bench Mark"
   ]
  },
  {
   "cell_type": "markdown",
   "metadata": {},
   "source": [
    "Instead of storing genotype data as two BitArrays, SnpArrayBM stores genotype data as a 3-D (2 x number of people x number of SNPs) BitArray."
   ]
  },
  {
   "cell_type": "markdown",
   "metadata": {
    "collapsed": true
   },
   "source": [
    "```\n",
    "type SnpArrayBM{N} <: AbstractArray{NTuple{2, Bool}, N}\n",
    "  A::BitArray{N}\n",
    "end\n",
    "```"
   ]
  },
  {
   "cell_type": "markdown",
   "metadata": {},
   "source": [
    "## Constructor - load from PLINK file"
   ]
  },
  {
   "cell_type": "code",
   "execution_count": 15,
   "metadata": {
    "collapsed": false
   },
   "outputs": [
    {
     "name": "stdout",
     "output_type": "stream",
     "text": [
      "  0.075597 seconds (186 allocations: 1.102 MB)\n",
      "  0.065653 seconds (178 allocations: 1.101 MB)\n"
     ]
    }
   ],
   "source": [
    "include(\"../src/SnpArrays.jl\");\n",
    "using SnpArrays, BaseTestNext;\n",
    "@time sa = SnpArray(\"../docs/hapmap3\");\n",
    "@time sabm = SnpArrayBM(\"../docs/hapmap3\");"
   ]
  },
  {
   "cell_type": "markdown",
   "metadata": {},
   "source": [
    "## Test getindex"
   ]
  },
  {
   "cell_type": "code",
   "execution_count": 2,
   "metadata": {
    "collapsed": false
   },
   "outputs": [],
   "source": [
    "n,p = size(sa)\n",
    "for j=1:p\n",
    "    for i=1:n\n",
    "        @test sa[i,j] == sabm[i,j];\n",
    "    end\n",
    "end"
   ]
  },
  {
   "cell_type": "markdown",
   "metadata": {},
   "source": [
    "## Test summarize"
   ]
  },
  {
   "cell_type": "code",
   "execution_count": 14,
   "metadata": {
    "collapsed": false
   },
   "outputs": [
    {
     "name": "stdout",
     "output_type": "stream",
     "text": [
      "  0.072515 seconds (18 allocations: 222.516 KB)\n",
      "  0.057378 seconds (18 allocations: 222.516 KB)\n"
     ]
    }
   ],
   "source": [
    "@time maf1, _, _, _ = summarize(sa);\n",
    "@time maf2, _, _, _ = summarize(sabm);\n",
    "for i=1:n\n",
    "    @test maf1[i] == maf2[i];\n",
    "end"
   ]
  },
  {
   "cell_type": "markdown",
   "metadata": {
    "collapsed": true
   },
   "source": [
    "## Test GRM"
   ]
  },
  {
   "cell_type": "code",
   "execution_count": 12,
   "metadata": {
    "collapsed": false
   },
   "outputs": [
    {
     "name": "stdout",
     "output_type": "stream",
     "text": [
      "  0.120496 seconds (15 allocations: 35.231 MB, 1.08% gc time)\n",
      "  0.128781 seconds (15 allocations: 35.231 MB, 0.66% gc time)\n"
     ]
    }
   ],
   "source": [
    "@time grm(sa; method=:GRM);\n",
    "@time grm(sabm; method=:GRM);"
   ]
  },
  {
   "cell_type": "markdown",
   "metadata": {},
   "source": [
    "## Test MoM"
   ]
  },
  {
   "cell_type": "code",
   "execution_count": 8,
   "metadata": {
    "collapsed": false,
    "scrolled": true
   },
   "outputs": [
    {
     "name": "stdout",
     "output_type": "stream",
     "text": [
      "  0.210271 seconds (25 allocations: 35.448 MB, 0.61% gc time)\n",
      "  0.194818 seconds (25 allocations: 35.448 MB, 0.75% gc time)\n"
     ]
    }
   ],
   "source": [
    "@time grm(sa; method=:MoM);\n",
    "@time grm(sabm; method=:MoM);"
   ]
  },
  {
   "cell_type": "markdown",
   "metadata": {},
   "source": [
    "## Test PCA"
   ]
  },
  {
   "cell_type": "code",
   "execution_count": 27,
   "metadata": {
    "collapsed": false,
    "scrolled": true
   },
   "outputs": [
    {
     "name": "stdout",
     "output_type": "stream",
     "text": [
      "  1.290308 seconds (4.38 k allocations: 106.949 MB, 0.27% gc time)\n",
      "  1.299542 seconds (4.37 k allocations: 106.513 MB, 0.26% gc time)\n",
      "(sc1[i],sc2[i]) = (-38.7064556462213,38.716670662585855)\n",
      "(sc1[i],sc2[i]) = (-32.62529680266943,32.62530503797953)\n",
      "(sc1[i],sc2[i]) = (-22.83129157546466,22.987913764796694)\n",
      "(sc1[i],sc2[i]) = (-35.73672456383464,35.70669167407758)\n",
      "(sc1[i],sc2[i]) = (-37.12382888140796,37.19931850668469)\n",
      "(sc1[i],sc2[i]) = (-34.86032307169566,34.8642113952915)\n"
     ]
    }
   ],
   "source": [
    "@time sc1, _, _ = pca(sa);\n",
    "@time sc2, _, _ = pca(sabm);\n",
    "for i=1:6\n",
    "    @show sc1[i], sc2[i]\n",
    "end"
   ]
  }
 ],
 "metadata": {
  "kernelspec": {
   "display_name": "Julia 0.4.5",
   "language": "julia",
   "name": "julia-0.4"
  },
  "language_info": {
   "file_extension": ".jl",
   "mimetype": "application/julia",
   "name": "julia",
   "version": "0.4.5"
  }
 },
 "nbformat": 4,
 "nbformat_minor": 0
}
