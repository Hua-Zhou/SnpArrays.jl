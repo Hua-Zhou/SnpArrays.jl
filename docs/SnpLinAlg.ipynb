{
 "cells": [
  {
   "cell_type": "markdown",
   "metadata": {},
   "source": [
    "# Linear Algebra Benchmarks"
   ]
  },
  {
   "cell_type": "markdown",
   "metadata": {},
   "source": [
    "`SnpArrays.jl` supports three modes of matrix-vector multiplications:\n",
    "\n",
    "1. Direct operations on a plink-formatted `SnpArray`: `SnpLinAlg`\n",
    "2. Operations on transformed `BitMatrix`es: `SnpBitMatrix` (support for this will be dropped in the near future)\n",
    "3. Direct operations on a plink-formatted data on an Nvidia GPU: `CuSnpArray`.\n",
    "\n",
    "`SnpLinAlg` also supports matrix-matrix multiplications."
   ]
  },
  {
   "cell_type": "markdown",
   "metadata": {},
   "source": [
    "- `SnpLinAlg` and `SnpBitMatrix` use Chris Elrod's [LoopVectorization.jl](https://github.com/chriselrod/LoopVectorization.jl) internally. It is much faster on machines with AVX support.  \n",
    "- `CuSnpArray` uses [CUDA.jl](https://juliagpu.gitlab.io/CUDA.jl/) internally.\n",
    "On this page, we compare these three.\n",
    "- `SnpLinAlg` supports multithreading. See [this page](https://docs.julialang.org/en/v1/manual/multi-threading/#Starting-Julia-with-multiple-threads-1) to learn how to use it."
   ]
  },
  {
   "cell_type": "code",
   "execution_count": 1,
   "metadata": {
    "collapsed": false
   },
   "outputs": [
    {
     "name": "stdout",
     "output_type": "stream",
     "text": [
      "Julia Version 1.6.0\n",
      "Commit f9720dc2eb (2021-03-24 12:55 UTC)\n",
      "Platform Info:\n",
      "  OS: macOS (x86_64-apple-darwin19.6.0)\n",
      "  CPU: Intel(R) Core(TM) i9-9880H CPU @ 2.30GHz\n",
      "  WORD_SIZE: 64\n",
      "  LIBM: libopenlibm\n",
      "  LLVM: libLLVM-11.0.1 (ORCJIT, skylake)\n"
     ]
    }
   ],
   "source": [
    "versioninfo()"
   ]
  },
  {
   "cell_type": "code",
   "execution_count": 2,
   "metadata": {
    "collapsed": false
   },
   "outputs": [
    {
     "name": "stderr",
     "output_type": "stream",
     "text": [
      "┌ Info: Precompiling SnpArrays [4e780e97-f5bf-4111-9dc4-b70aaf691b06]\n",
      "└ @ Base loading.jl:1317\n",
      "WARNING: could not import DataFrames.DataFrame! into SnpArrays\n"
     ]
    }
   ],
   "source": [
    "using SnpArrays\n",
    "using LinearAlgebra\n",
    "using BenchmarkTools"
   ]
  },
  {
   "cell_type": "code",
   "execution_count": 3,
   "metadata": {
    "collapsed": true
   },
   "outputs": [],
   "source": [
    "const EUR = SnpArray(SnpArrays.datadir(\"EUR_subset.bed\"));"
   ]
  },
  {
   "cell_type": "markdown",
   "metadata": {},
   "source": [
    "Let's try with EUR data repeated 100 and 101 times: 37900 by 54051 and 38279 by 54051, respectively."
   ]
  },
  {
   "cell_type": "code",
   "execution_count": 4,
   "metadata": {
    "collapsed": true
   },
   "outputs": [],
   "source": [
    "EUR_10 = [EUR; EUR; EUR; EUR; EUR; EUR; EUR; EUR; EUR; EUR]\n",
    "EUR_100 = [EUR_10; EUR_10; EUR_10; EUR_10; EUR_10; EUR_10; EUR_10; EUR_10; EUR_10; EUR_10];\n",
    "EUR_101 = [EUR_100; EUR];"
   ]
  },
  {
   "cell_type": "markdown",
   "metadata": {},
   "source": [
    "We create instances of SnpLinAlg, SnpBitmatrix and CuSnpArray:"
   ]
  },
  {
   "cell_type": "code",
   "execution_count": 5,
   "metadata": {
    "collapsed": true
   },
   "outputs": [],
   "source": [
    "EUR_100_bm = SnpBitMatrix{Float64}(EUR_100; model=ADDITIVE_MODEL, center=false, scale=false);\n",
    "EUR_100_sla = SnpLinAlg{Float64}(EUR_100; model=ADDITIVE_MODEL, center=false, scale=false);\n",
    "EUR_100_sla_ = SnpLinAlg{Float64}(EUR_100; model=ADDITIVE_MODEL, center=false, scale=false, impute=false);\n",
    "EUR_100_mat = convert(Matrix{Float64}, EUR_100, model=ADDITIVE_MODEL, center=false, scale=false);\n",
    "\n",
    "EUR_101_bm = SnpBitMatrix{Float64}(EUR_101; model=ADDITIVE_MODEL, center=false, scale=false);\n",
    "EUR_101_sla = SnpLinAlg{Float64}(EUR_101; model=ADDITIVE_MODEL, center=false, scale=false);\n",
    "EUR_101_sla_ = SnpLinAlg{Float64}(EUR_101; model=ADDITIVE_MODEL, center=false, scale=false, impute=false);\n",
    "EUR_101_mat = convert(Matrix{Float64}, EUR_101, model=ADDITIVE_MODEL, center=false, scale=false);"
   ]
  },
  {
   "cell_type": "code",
   "execution_count": 6,
   "metadata": {
    "collapsed": false
   },
   "outputs": [
    {
     "name": "stderr",
     "output_type": "stream",
     "text": [
      "┌ Warning: `haskey(::TargetIterator, name::String)` is deprecated, use `Target(; name = name) !== nothing` instead.\n",
      "│   caller = llvm_compat(::VersionNumber) at compatibility.jl:176\n",
      "└ @ CUDA /home/kose/.julia/packages/CUDA/5t6R9/deps/compatibility.jl:176\n"
     ]
    }
   ],
   "source": [
    "ENV[\"JULIA_CUDA_USE_BINARYBUILDER\"] = \"false\"\n",
    "using CUDA\n",
    "EUR_100_cu = CuSnpArray{Float64}(EUR_100; model=ADDITIVE_MODEL, center=false, scale=false);\n",
    "EUR_100_cu_ = CuSnpArray{Float64}(EUR_100; model=ADDITIVE_MODEL, center=false, scale=false, impute=false);"
   ]
  },
  {
   "cell_type": "markdown",
   "metadata": {},
   "source": [
    "## $y = Ax$"
   ]
  },
  {
   "cell_type": "code",
   "execution_count": 8,
   "metadata": {
    "collapsed": true
   },
   "outputs": [],
   "source": [
    "v1 = randn(size(EUR_100, 1))\n",
    "v1_ = randn(size(EUR_100, 1))\n",
    "v2 = randn(size(EUR_100, 2));"
   ]
  },
  {
   "cell_type": "markdown",
   "metadata": {},
   "source": [
    "With 8-threaded OpenBLAS (included in standard binary installation of Julia): "
   ]
  },
  {
   "cell_type": "code",
   "execution_count": 9,
   "metadata": {
    "collapsed": false
   },
   "outputs": [
    {
     "data": {
      "text/plain": [
       "BenchmarkTools.Trial: \n",
       "  memory estimate:  0 bytes\n",
       "  allocs estimate:  0\n",
       "  --------------\n",
       "  minimum time:     361.080 ms (0.00% GC)\n",
       "  median time:      581.438 ms (0.00% GC)\n",
       "  mean time:        535.216 ms (0.00% GC)\n",
       "  maximum time:     668.896 ms (0.00% GC)\n",
       "  --------------\n",
       "  samples:          10\n",
       "  evals/sample:     1"
      ]
     },
     "execution_count": 9,
     "metadata": {},
     "output_type": "execute_result"
    }
   ],
   "source": [
    "BLAS.set_num_threads(8)\n",
    "@benchmark LinearAlgebra.mul!($v1, $EUR_100_mat, $v2)"
   ]
  },
  {
   "cell_type": "markdown",
   "metadata": {},
   "source": [
    "With single-threaded OpenBLAS: "
   ]
  },
  {
   "cell_type": "code",
   "execution_count": 10,
   "metadata": {
    "collapsed": false
   },
   "outputs": [
    {
     "data": {
      "text/plain": [
       "BenchmarkTools.Trial: \n",
       "  memory estimate:  0 bytes\n",
       "  allocs estimate:  0\n",
       "  --------------\n",
       "  minimum time:     2.741 s (0.00% GC)\n",
       "  median time:      2.880 s (0.00% GC)\n",
       "  mean time:        2.880 s (0.00% GC)\n",
       "  maximum time:     3.019 s (0.00% GC)\n",
       "  --------------\n",
       "  samples:          2\n",
       "  evals/sample:     1"
      ]
     },
     "execution_count": 10,
     "metadata": {},
     "output_type": "execute_result"
    }
   ],
   "source": [
    "BLAS.set_num_threads(1)\n",
    "@benchmark LinearAlgebra.mul!($v1, $EUR_100_mat, $v2)"
   ]
  },
  {
   "cell_type": "markdown",
   "metadata": {},
   "source": [
    "Direct linear algebra on a SnpArray, with mean imputation: "
   ]
  },
  {
   "cell_type": "code",
   "execution_count": 11,
   "metadata": {
    "collapsed": false
   },
   "outputs": [
    {
     "data": {
      "text/plain": [
       "BenchmarkTools.Trial: \n",
       "  memory estimate:  38.33 KiB\n",
       "  allocs estimate:  1616\n",
       "  --------------\n",
       "  minimum time:     1.726 s (0.00% GC)\n",
       "  median time:      1.748 s (0.00% GC)\n",
       "  mean time:        1.744 s (0.00% GC)\n",
       "  maximum time:     1.757 s (0.00% GC)\n",
       "  --------------\n",
       "  samples:          3\n",
       "  evals/sample:     1"
      ]
     },
     "execution_count": 11,
     "metadata": {},
     "output_type": "execute_result"
    }
   ],
   "source": [
    "@benchmark LinearAlgebra.mul!($v1, $EUR_100_sla, $v2)"
   ]
  },
  {
   "cell_type": "markdown",
   "metadata": {},
   "source": [
    "With zero imputation:"
   ]
  },
  {
   "cell_type": "code",
   "execution_count": 12,
   "metadata": {
    "collapsed": false
   },
   "outputs": [
    {
     "data": {
      "text/plain": [
       "BenchmarkTools.Trial: \n",
       "  memory estimate:  38.33 KiB\n",
       "  allocs estimate:  1616\n",
       "  --------------\n",
       "  minimum time:     1.013 s (0.00% GC)\n",
       "  median time:      1.032 s (0.00% GC)\n",
       "  mean time:        1.029 s (0.00% GC)\n",
       "  maximum time:     1.037 s (0.00% GC)\n",
       "  --------------\n",
       "  samples:          5\n",
       "  evals/sample:     1"
      ]
     },
     "execution_count": 12,
     "metadata": {},
     "output_type": "execute_result"
    }
   ],
   "source": [
    "@benchmark LinearAlgebra.mul!($v1, $EUR_100_sla_, $v2)"
   ]
  },
  {
   "cell_type": "markdown",
   "metadata": {},
   "source": [
    "Indeed, we are paying some price for mean imputation."
   ]
  },
  {
   "cell_type": "markdown",
   "metadata": {},
   "source": [
    "The below is the benchmark for SnpBitMatrix (always zero-imputed):"
   ]
  },
  {
   "cell_type": "code",
   "execution_count": 13,
   "metadata": {
    "collapsed": false
   },
   "outputs": [
    {
     "data": {
      "text/plain": [
       "BenchmarkTools.Trial: \n",
       "  memory estimate:  0 bytes\n",
       "  allocs estimate:  0\n",
       "  --------------\n",
       "  minimum time:     1.057 s (0.00% GC)\n",
       "  median time:      1.089 s (0.00% GC)\n",
       "  mean time:        1.085 s (0.00% GC)\n",
       "  maximum time:     1.124 s (0.00% GC)\n",
       "  --------------\n",
       "  samples:          5\n",
       "  evals/sample:     1"
      ]
     },
     "execution_count": 13,
     "metadata": {},
     "output_type": "execute_result"
    }
   ],
   "source": [
    "@benchmark (LinearAlgebra.mul!($v1, $EUR_100_bm, $v2))"
   ]
  },
  {
   "cell_type": "markdown",
   "metadata": {},
   "source": [
    "At first glance, the result from SnpBitMatrix might look better than SnpLinAlg. However, SnpLinAlg is more stable in performance when the number of samples is not multiple of 4 or 8."
   ]
  },
  {
   "cell_type": "code",
   "execution_count": 14,
   "metadata": {
    "collapsed": true
   },
   "outputs": [],
   "source": [
    "v1 = randn(size(EUR_101, 1))\n",
    "v2 = randn(size(EUR_101, 2));"
   ]
  },
  {
   "cell_type": "code",
   "execution_count": 15,
   "metadata": {
    "collapsed": false
   },
   "outputs": [
    {
     "data": {
      "text/plain": [
       "BenchmarkTools.Trial: \n",
       "  memory estimate:  44.13 KiB\n",
       "  allocs estimate:  1722\n",
       "  --------------\n",
       "  minimum time:     1.322 s (0.00% GC)\n",
       "  median time:      1.635 s (0.00% GC)\n",
       "  mean time:        1.561 s (0.00% GC)\n",
       "  maximum time:     1.654 s (0.00% GC)\n",
       "  --------------\n",
       "  samples:          4\n",
       "  evals/sample:     1"
      ]
     },
     "execution_count": 15,
     "metadata": {},
     "output_type": "execute_result"
    }
   ],
   "source": [
    "@benchmark LinearAlgebra.mul!($v1, $EUR_101_sla, $v2)"
   ]
  },
  {
   "cell_type": "code",
   "execution_count": 16,
   "metadata": {
    "collapsed": false
   },
   "outputs": [
    {
     "data": {
      "text/plain": [
       "BenchmarkTools.Trial: \n",
       "  memory estimate:  44.13 KiB\n",
       "  allocs estimate:  1722\n",
       "  --------------\n",
       "  minimum time:     1.032 s (0.00% GC)\n",
       "  median time:      1.039 s (0.00% GC)\n",
       "  mean time:        1.039 s (0.00% GC)\n",
       "  maximum time:     1.046 s (0.00% GC)\n",
       "  --------------\n",
       "  samples:          5\n",
       "  evals/sample:     1"
      ]
     },
     "execution_count": 16,
     "metadata": {},
     "output_type": "execute_result"
    }
   ],
   "source": [
    "@benchmark LinearAlgebra.mul!($v1, $EUR_101_sla_, $v2)"
   ]
  },
  {
   "cell_type": "code",
   "execution_count": 17,
   "metadata": {
    "collapsed": false,
    "scrolled": true
   },
   "outputs": [
    {
     "data": {
      "text/plain": [
       "BenchmarkTools.Trial: \n",
       "  memory estimate:  0 bytes\n",
       "  allocs estimate:  0\n",
       "  --------------\n",
       "  minimum time:     1.214 s (0.00% GC)\n",
       "  median time:      1.230 s (0.00% GC)\n",
       "  mean time:        1.256 s (0.00% GC)\n",
       "  maximum time:     1.348 s (0.00% GC)\n",
       "  --------------\n",
       "  samples:          4\n",
       "  evals/sample:     1"
      ]
     },
     "execution_count": 17,
     "metadata": {},
     "output_type": "execute_result"
    }
   ],
   "source": [
    "@benchmark LinearAlgebra.mul!($v1, $EUR_101_bm, $v2)"
   ]
  },
  {
   "cell_type": "markdown",
   "metadata": {},
   "source": [
    "Now let's try CUDA. The device is Nvidia Titan V."
   ]
  },
  {
   "cell_type": "code",
   "execution_count": 18,
   "metadata": {
    "collapsed": true
   },
   "outputs": [],
   "source": [
    "using Adapt"
   ]
  },
  {
   "cell_type": "markdown",
   "metadata": {},
   "source": [
    "Moving data to GPU: "
   ]
  },
  {
   "cell_type": "code",
   "execution_count": 19,
   "metadata": {
    "collapsed": true
   },
   "outputs": [],
   "source": [
    "v1 = randn(size(EUR_100, 1))\n",
    "v1_ = randn(size(EUR_100, 1))\n",
    "v2 = randn(size(EUR_100, 2));\n",
    "v1_d = adapt(CuArray{Float64}, v1)\n",
    "v1_d_ = similar(v1_d)\n",
    "v2_d = adapt(CuArray{Float64}, v2);"
   ]
  },
  {
   "cell_type": "code",
   "execution_count": 20,
   "metadata": {
    "collapsed": false
   },
   "outputs": [
    {
     "name": "stderr",
     "output_type": "stream",
     "text": [
      "┌ Warning: `Target(triple::String)` is deprecated, use `Target(; triple = triple)` instead.\n",
      "│   caller = ip:0x0\n",
      "└ @ Core :-1\n"
     ]
    },
    {
     "data": {
      "text/plain": [
       "BenchmarkTools.Trial: \n",
       "  memory estimate:  3.28 KiB\n",
       "  allocs estimate:  130\n",
       "  --------------\n",
       "  minimum time:     22.141 ms (0.00% GC)\n",
       "  median time:      22.287 ms (0.00% GC)\n",
       "  mean time:        22.286 ms (0.00% GC)\n",
       "  maximum time:     22.739 ms (0.00% GC)\n",
       "  --------------\n",
       "  samples:          225\n",
       "  evals/sample:     1"
      ]
     },
     "execution_count": 20,
     "metadata": {},
     "output_type": "execute_result"
    }
   ],
   "source": [
    "using BenchmarkTools\n",
    "@benchmark CUDA.@sync LinearAlgebra.mul!($v1_d, $EUR_100_cu, $v2_d)"
   ]
  },
  {
   "cell_type": "markdown",
   "metadata": {},
   "source": [
    "For CuSnpArray, the additional cost for mean imputation is negligible."
   ]
  },
  {
   "cell_type": "code",
   "execution_count": 21,
   "metadata": {
    "collapsed": false
   },
   "outputs": [
    {
     "data": {
      "text/plain": [
       "BenchmarkTools.Trial: \n",
       "  memory estimate:  3.28 KiB\n",
       "  allocs estimate:  130\n",
       "  --------------\n",
       "  minimum time:     22.063 ms (0.00% GC)\n",
       "  median time:      22.283 ms (0.00% GC)\n",
       "  mean time:        22.667 ms (0.00% GC)\n",
       "  maximum time:     54.782 ms (0.00% GC)\n",
       "  --------------\n",
       "  samples:          221\n",
       "  evals/sample:     1"
      ]
     },
     "execution_count": 21,
     "metadata": {},
     "output_type": "execute_result"
    }
   ],
   "source": [
    "@benchmark CUDA.@sync LinearAlgebra.mul!($v1_d_, $EUR_100_cu_, $v2_d)"
   ]
  },
  {
   "cell_type": "code",
   "execution_count": 22,
   "metadata": {
    "collapsed": true
   },
   "outputs": [],
   "source": [
    "EUR_100_mat_d = adapt(CuArray, EUR_100_mat);"
   ]
  },
  {
   "cell_type": "code",
   "execution_count": 23,
   "metadata": {
    "collapsed": false
   },
   "outputs": [
    {
     "data": {
      "text/plain": [
       "BenchmarkTools.Trial: \n",
       "  memory estimate:  2.58 KiB\n",
       "  allocs estimate:  85\n",
       "  --------------\n",
       "  minimum time:     76.064 ms (0.00% GC)\n",
       "  median time:      80.063 ms (0.00% GC)\n",
       "  mean time:        78.925 ms (0.00% GC)\n",
       "  maximum time:     81.984 ms (0.00% GC)\n",
       "  --------------\n",
       "  samples:          64\n",
       "  evals/sample:     1"
      ]
     },
     "execution_count": 23,
     "metadata": {},
     "output_type": "execute_result"
    }
   ],
   "source": [
    "@benchmark CUDA.@sync LinearAlgebra.mul!($v1_d, $EUR_100_mat_d, $v2_d)"
   ]
  },
  {
   "cell_type": "markdown",
   "metadata": {},
   "source": [
    "The speedup is obvious, CuSnpArrays is 30-50x faster than on CPU, and using CuSnpArray is both faster and memory-efficient compared to linear algebra with floating point matrix on GPU."
   ]
  },
  {
   "cell_type": "code",
   "execution_count": 24,
   "metadata": {
    "collapsed": false
   },
   "outputs": [
    {
     "data": {
      "text/plain": [
       "true"
      ]
     },
     "execution_count": 24,
     "metadata": {},
     "output_type": "execute_result"
    }
   ],
   "source": [
    "isapprox(v1_d, v1_d_)"
   ]
  },
  {
   "cell_type": "markdown",
   "metadata": {},
   "source": [
    "## $y = A^T x$"
   ]
  },
  {
   "cell_type": "code",
   "execution_count": 25,
   "metadata": {
    "collapsed": true
   },
   "outputs": [],
   "source": [
    "v1 = randn(size(EUR_100, 1))\n",
    "v2 = randn(size(EUR_100, 2))\n",
    "v2_ = randn(size(EUR_100, 2))\n",
    "v1_d = adapt(CuArray{Float64}, v1)\n",
    "v2_d = adapt(CuArray{Float64}, v2);"
   ]
  },
  {
   "cell_type": "code",
   "execution_count": 26,
   "metadata": {
    "collapsed": false
   },
   "outputs": [
    {
     "data": {
      "text/plain": [
       "BenchmarkTools.Trial: \n",
       "  memory estimate:  38.34 KiB\n",
       "  allocs estimate:  1617\n",
       "  --------------\n",
       "  minimum time:     934.273 ms (0.00% GC)\n",
       "  median time:      941.154 ms (0.00% GC)\n",
       "  mean time:        940.465 ms (0.00% GC)\n",
       "  maximum time:     946.902 ms (0.00% GC)\n",
       "  --------------\n",
       "  samples:          6\n",
       "  evals/sample:     1"
      ]
     },
     "execution_count": 26,
     "metadata": {},
     "output_type": "execute_result"
    }
   ],
   "source": [
    "@benchmark LinearAlgebra.mul!($v2, transpose($EUR_100_sla), $v1)"
   ]
  },
  {
   "cell_type": "code",
   "execution_count": 27,
   "metadata": {
    "collapsed": false
   },
   "outputs": [
    {
     "data": {
      "text/plain": [
       "BenchmarkTools.Trial: \n",
       "  memory estimate:  16 bytes\n",
       "  allocs estimate:  1\n",
       "  --------------\n",
       "  minimum time:     613.994 ms (0.00% GC)\n",
       "  median time:      624.201 ms (0.00% GC)\n",
       "  mean time:        623.735 ms (0.00% GC)\n",
       "  maximum time:     635.480 ms (0.00% GC)\n",
       "  --------------\n",
       "  samples:          9\n",
       "  evals/sample:     1"
      ]
     },
     "execution_count": 27,
     "metadata": {},
     "output_type": "execute_result"
    }
   ],
   "source": [
    "@benchmark (LinearAlgebra.mul!($v2, transpose($EUR_100_bm), $v1))"
   ]
  },
  {
   "cell_type": "code",
   "execution_count": 28,
   "metadata": {
    "collapsed": false
   },
   "outputs": [
    {
     "data": {
      "text/plain": [
       "BenchmarkTools.Trial: \n",
       "  memory estimate:  3.08 KiB\n",
       "  allocs estimate:  118\n",
       "  --------------\n",
       "  minimum time:     26.717 ms (0.00% GC)\n",
       "  median time:      26.903 ms (0.00% GC)\n",
       "  mean time:        27.136 ms (0.00% GC)\n",
       "  maximum time:     31.066 ms (0.00% GC)\n",
       "  --------------\n",
       "  samples:          185\n",
       "  evals/sample:     1"
      ]
     },
     "execution_count": 28,
     "metadata": {},
     "output_type": "execute_result"
    }
   ],
   "source": [
    "@benchmark LinearAlgebra.mul!($v2_d, transpose($EUR_100_cu), $v1_d)"
   ]
  },
  {
   "cell_type": "code",
   "execution_count": 29,
   "metadata": {
    "collapsed": false
   },
   "outputs": [
    {
     "data": {
      "text/plain": [
       "true"
      ]
     },
     "execution_count": 29,
     "metadata": {},
     "output_type": "execute_result"
    }
   ],
   "source": [
    "isapprox(collect(v2_d), v2)"
   ]
  },
  {
   "cell_type": "code",
   "execution_count": 30,
   "metadata": {
    "collapsed": true
   },
   "outputs": [],
   "source": [
    "v1 = randn(size(EUR_101, 1))\n",
    "v2 = randn(size(EUR_101, 2));"
   ]
  },
  {
   "cell_type": "code",
   "execution_count": 31,
   "metadata": {
    "collapsed": false
   },
   "outputs": [
    {
     "data": {
      "text/plain": [
       "BenchmarkTools.Trial: \n",
       "  memory estimate:  44.14 KiB\n",
       "  allocs estimate:  1723\n",
       "  --------------\n",
       "  minimum time:     958.926 ms (0.00% GC)\n",
       "  median time:      965.005 ms (0.00% GC)\n",
       "  mean time:        969.983 ms (0.00% GC)\n",
       "  maximum time:     1.002 s (0.00% GC)\n",
       "  --------------\n",
       "  samples:          6\n",
       "  evals/sample:     1"
      ]
     },
     "execution_count": 31,
     "metadata": {},
     "output_type": "execute_result"
    }
   ],
   "source": [
    "@benchmark LinearAlgebra.mul!($v2, transpose($EUR_101_sla), $v1)"
   ]
  },
  {
   "cell_type": "code",
   "execution_count": 32,
   "metadata": {
    "collapsed": false
   },
   "outputs": [
    {
     "data": {
      "text/plain": [
       "BenchmarkTools.Trial: \n",
       "  memory estimate:  44.14 KiB\n",
       "  allocs estimate:  1723\n",
       "  --------------\n",
       "  minimum time:     1.089 s (0.00% GC)\n",
       "  median time:      1.092 s (0.00% GC)\n",
       "  mean time:        1.097 s (0.00% GC)\n",
       "  maximum time:     1.107 s (0.00% GC)\n",
       "  --------------\n",
       "  samples:          5\n",
       "  evals/sample:     1"
      ]
     },
     "execution_count": 32,
     "metadata": {},
     "output_type": "execute_result"
    }
   ],
   "source": [
    "@benchmark LinearAlgebra.mul!($v2, transpose($EUR_101_sla_), $v1)"
   ]
  },
  {
   "cell_type": "code",
   "execution_count": 33,
   "metadata": {
    "collapsed": false
   },
   "outputs": [
    {
     "data": {
      "text/plain": [
       "BenchmarkTools.Trial: \n",
       "  memory estimate:  16 bytes\n",
       "  allocs estimate:  1\n",
       "  --------------\n",
       "  minimum time:     620.057 ms (0.00% GC)\n",
       "  median time:      628.593 ms (0.00% GC)\n",
       "  mean time:        635.710 ms (0.00% GC)\n",
       "  maximum time:     664.656 ms (0.00% GC)\n",
       "  --------------\n",
       "  samples:          8\n",
       "  evals/sample:     1"
      ]
     },
     "execution_count": 33,
     "metadata": {},
     "output_type": "execute_result"
    }
   ],
   "source": [
    "@benchmark (LinearAlgebra.mul!($v2, transpose($EUR_101_bm), $v1))"
   ]
  },
  {
   "cell_type": "markdown",
   "metadata": {},
   "source": [
    "BitMatrix is slightly faster in this direction."
   ]
  },
  {
   "cell_type": "markdown",
   "metadata": {},
   "source": [
    "## $Y = AX$\n",
    "\n",
    "Now for matrix-matrix multiplications. If we want to center/scale the SnpArray, we have\n",
    "```math\n",
    "\\begin{aligned}\n",
    "    Y_{ij} = \\sum_{k} \\frac{A_{ik} - \\mu_k}{\\sigma_k}X_{kj}\n",
    "\\end{aligned}\n",
    "```\n",
    "\n",
    "where $\\mu_k$ and $\\sigma_k$ is the mean and standard deviation of the $k$th SNP. Centering and scaling is performed on-the-fly. First check correctness"
   ]
  },
  {
   "cell_type": "code",
   "execution_count": 20,
   "metadata": {
    "collapsed": false
   },
   "outputs": [
    {
     "data": {
      "text/plain": [
       "true"
      ]
     },
     "execution_count": 20,
     "metadata": {},
     "output_type": "execute_result"
    }
   ],
   "source": [
    "EUR = SnpArray(SnpArrays.datadir(\"EUR_subset.bed\"));\n",
    "EUR_10 = [EUR; EUR; EUR; EUR; EUR; EUR; EUR; EUR; EUR; EUR]\n",
    "\n",
    "m = size(EUR_10, 1)\n",
    "n = size(EUR_10, 2)\n",
    "p = 2\n",
    "\n",
    "A = SnpLinAlg{Float64}(EUR_10; model=ADDITIVE_MODEL, impute=true, center=true, scale=true);\n",
    "X = rand(n, p)\n",
    "Y = zeros(m, p)\n",
    "SnpArrays.mul!(Y, A, X)\n",
    "Afloat = convert(Matrix{Float64}, EUR_10, impute=true, center=true, scale=true)\n",
    "Ytrue = Afloat * X\n",
    "all(Y .≈ Ytrue)"
   ]
  },
  {
   "cell_type": "markdown",
   "metadata": {},
   "source": [
    "Now lets check out timings. If $B$ is a \"tall and thin\" matrix, then `SnpLinAlg` remains competitive, often superior, to BLAS. "
   ]
  },
  {
   "cell_type": "code",
   "execution_count": 21,
   "metadata": {
    "collapsed": false
   },
   "outputs": [
    {
     "data": {
      "text/plain": [
       "BenchmarkTools.Trial: \n",
       "  memory estimate:  112 bytes\n",
       "  allocs estimate:  1\n",
       "  --------------\n",
       "  minimum time:     173.410 ms (0.00% GC)\n",
       "  median time:      183.456 ms (0.00% GC)\n",
       "  mean time:        185.278 ms (0.00% GC)\n",
       "  maximum time:     212.790 ms (0.00% GC)\n",
       "  --------------\n",
       "  samples:          28\n",
       "  evals/sample:     1"
      ]
     },
     "execution_count": 21,
     "metadata": {},
     "output_type": "execute_result"
    }
   ],
   "source": [
    "# SnpLinAlg-matrix\n",
    "@benchmark LinearAlgebra.mul!($Y, $A, $X)"
   ]
  },
  {
   "cell_type": "code",
   "execution_count": 22,
   "metadata": {
    "collapsed": false
   },
   "outputs": [
    {
     "data": {
      "text/plain": [
       "BenchmarkTools.Trial: \n",
       "  memory estimate:  0 bytes\n",
       "  allocs estimate:  0\n",
       "  --------------\n",
       "  minimum time:     174.038 ms (0.00% GC)\n",
       "  median time:      210.557 ms (0.00% GC)\n",
       "  mean time:        207.253 ms (0.00% GC)\n",
       "  maximum time:     256.666 ms (0.00% GC)\n",
       "  --------------\n",
       "  samples:          25\n",
       "  evals/sample:     1"
      ]
     },
     "execution_count": 22,
     "metadata": {},
     "output_type": "execute_result"
    }
   ],
   "source": [
    "# BLAS with 1 threaed \n",
    "BLAS.set_num_threads(1)\n",
    "@benchmark LinearAlgebra.mul!($Y, $Afloat, $X)"
   ]
  },
  {
   "cell_type": "code",
   "execution_count": 23,
   "metadata": {
    "collapsed": false
   },
   "outputs": [
    {
     "data": {
      "text/plain": [
       "BenchmarkTools.Trial: \n",
       "  memory estimate:  0 bytes\n",
       "  allocs estimate:  0\n",
       "  --------------\n",
       "  minimum time:     70.793 ms (0.00% GC)\n",
       "  median time:      81.628 ms (0.00% GC)\n",
       "  mean time:        85.057 ms (0.00% GC)\n",
       "  maximum time:     138.839 ms (0.00% GC)\n",
       "  --------------\n",
       "  samples:          59\n",
       "  evals/sample:     1"
      ]
     },
     "execution_count": 23,
     "metadata": {},
     "output_type": "execute_result"
    }
   ],
   "source": [
    "# BLAS with 8 threaed \n",
    "BLAS.set_num_threads(8)\n",
    "@benchmark LinearAlgebra.mul!($Y, $Afloat, $X)"
   ]
  },
  {
   "cell_type": "markdown",
   "metadata": {},
   "source": [
    "But if $B$ is a large matrix too, single threaded BLAS is ~6 times faster and >10x faster for 8 thread BLAS. "
   ]
  },
  {
   "cell_type": "code",
   "execution_count": 24,
   "metadata": {
    "collapsed": false
   },
   "outputs": [
    {
     "data": {
      "text/plain": [
       "BenchmarkTools.Trial: \n",
       "  memory estimate:  112 bytes\n",
       "  allocs estimate:  1\n",
       "  --------------\n",
       "  minimum time:     4.889 s (0.00% GC)\n",
       "  median time:      4.910 s (0.00% GC)\n",
       "  mean time:        4.910 s (0.00% GC)\n",
       "  maximum time:     4.932 s (0.00% GC)\n",
       "  --------------\n",
       "  samples:          2\n",
       "  evals/sample:     1"
      ]
     },
     "execution_count": 24,
     "metadata": {},
     "output_type": "execute_result"
    }
   ],
   "source": [
    "# SnpLinAlg-matrix\n",
    "p = 100\n",
    "X = rand(n, p)\n",
    "Y = zeros(m, p)\n",
    "@benchmark LinearAlgebra.mul!($Y, $A, $X)"
   ]
  },
  {
   "cell_type": "code",
   "execution_count": 25,
   "metadata": {
    "collapsed": false
   },
   "outputs": [
    {
     "data": {
      "text/plain": [
       "BenchmarkTools.Trial: \n",
       "  memory estimate:  0 bytes\n",
       "  allocs estimate:  0\n",
       "  --------------\n",
       "  minimum time:     806.519 ms (0.00% GC)\n",
       "  median time:      818.924 ms (0.00% GC)\n",
       "  mean time:        817.595 ms (0.00% GC)\n",
       "  maximum time:     832.166 ms (0.00% GC)\n",
       "  --------------\n",
       "  samples:          7\n",
       "  evals/sample:     1"
      ]
     },
     "execution_count": 25,
     "metadata": {},
     "output_type": "execute_result"
    }
   ],
   "source": [
    "# BLAS with 1 threaed \n",
    "BLAS.set_num_threads(1)\n",
    "@benchmark LinearAlgebra.mul!($Y, $Afloat, $X)"
   ]
  },
  {
   "cell_type": "code",
   "execution_count": 26,
   "metadata": {
    "collapsed": false
   },
   "outputs": [
    {
     "data": {
      "text/plain": [
       "BenchmarkTools.Trial: \n",
       "  memory estimate:  0 bytes\n",
       "  allocs estimate:  0\n",
       "  --------------\n",
       "  minimum time:     217.737 ms (0.00% GC)\n",
       "  median time:      238.400 ms (0.00% GC)\n",
       "  mean time:        251.802 ms (0.00% GC)\n",
       "  maximum time:     305.899 ms (0.00% GC)\n",
       "  --------------\n",
       "  samples:          20\n",
       "  evals/sample:     1"
      ]
     },
     "execution_count": 26,
     "metadata": {},
     "output_type": "execute_result"
    }
   ],
   "source": [
    "# BLAS with 8 threaed \n",
    "BLAS.set_num_threads(8)\n",
    "@benchmark LinearAlgebra.mul!($Y, $Afloat, $X)"
   ]
  },
  {
   "cell_type": "markdown",
   "metadata": {},
   "source": [
    "## $Y = A^tX$\n",
    "\n",
    "If we want to center/scale the SnpArray, we have\n",
    "\n",
    "```math\n",
    "\\begin{aligned}\n",
    "    Y_{ij} = \\sum_{k} \\left(\\frac{A_{ik} - \\mu_i}{\\sigma_i}\\right)X_{kj}\n",
    "\\end{aligned}\n",
    "```\n",
    "\n",
    "where $\\mu_i$ and $\\sigma_i$ is the mean and standard deviation of the $i$th SNP. Similar to before, lets first check correctness."
   ]
  },
  {
   "cell_type": "code",
   "execution_count": 27,
   "metadata": {
    "collapsed": false
   },
   "outputs": [
    {
     "data": {
      "text/plain": [
       "true"
      ]
     },
     "execution_count": 27,
     "metadata": {},
     "output_type": "execute_result"
    }
   ],
   "source": [
    "EUR = SnpArray(SnpArrays.datadir(\"EUR_subset.bed\"));\n",
    "EUR_10 = [EUR; EUR; EUR; EUR; EUR; EUR; EUR; EUR; EUR; EUR]\n",
    "\n",
    "m = size(EUR_10, 1)\n",
    "n = size(EUR_10, 2)\n",
    "p = 2\n",
    "\n",
    "A = SnpLinAlg{Float64}(EUR_10; model=ADDITIVE_MODEL, impute=true, center=true, scale=true);\n",
    "X = rand(m, p)\n",
    "Y = zeros(n, p)\n",
    "SnpArrays.mul!(Y, Transpose(A), X)\n",
    "Afloat = convert(Matrix{Float64}, EUR_10, impute=true, center=true, scale=true)\n",
    "Ytrue = Afloat' * X\n",
    "all(Y .≈ Ytrue)"
   ]
  },
  {
   "cell_type": "markdown",
   "metadata": {},
   "source": [
    "Now lets check out timings. If $B$ is a \"tall and thin\" matrix, then `SnpLinAlg` remains competitive, often superior, to BLAS. "
   ]
  },
  {
   "cell_type": "code",
   "execution_count": 28,
   "metadata": {
    "collapsed": false
   },
   "outputs": [
    {
     "data": {
      "text/plain": [
       "BenchmarkTools.Trial: \n",
       "  memory estimate:  304 bytes\n",
       "  allocs estimate:  1\n",
       "  --------------\n",
       "  minimum time:     214.029 ms (0.00% GC)\n",
       "  median time:      216.865 ms (0.00% GC)\n",
       "  mean time:        217.732 ms (0.00% GC)\n",
       "  maximum time:     228.314 ms (0.00% GC)\n",
       "  --------------\n",
       "  samples:          23\n",
       "  evals/sample:     1"
      ]
     },
     "execution_count": 28,
     "metadata": {},
     "output_type": "execute_result"
    }
   ],
   "source": [
    "# SnpLinAlg-matrix\n",
    "@benchmark LinearAlgebra.mul!($Y, $(Transpose(A)), $X)"
   ]
  },
  {
   "cell_type": "code",
   "execution_count": 29,
   "metadata": {
    "collapsed": false
   },
   "outputs": [
    {
     "data": {
      "text/plain": [
       "BenchmarkTools.Trial: \n",
       "  memory estimate:  0 bytes\n",
       "  allocs estimate:  0\n",
       "  --------------\n",
       "  minimum time:     270.484 ms (0.00% GC)\n",
       "  median time:      297.139 ms (0.00% GC)\n",
       "  mean time:        302.211 ms (0.00% GC)\n",
       "  maximum time:     343.174 ms (0.00% GC)\n",
       "  --------------\n",
       "  samples:          17\n",
       "  evals/sample:     1"
      ]
     },
     "execution_count": 29,
     "metadata": {},
     "output_type": "execute_result"
    }
   ],
   "source": [
    "# BLAS with 1 threaed \n",
    "BLAS.set_num_threads(1)\n",
    "@benchmark LinearAlgebra.mul!($Y, $(Transpose(Afloat)), $X)"
   ]
  },
  {
   "cell_type": "code",
   "execution_count": 30,
   "metadata": {
    "collapsed": false
   },
   "outputs": [
    {
     "data": {
      "text/plain": [
       "BenchmarkTools.Trial: \n",
       "  memory estimate:  0 bytes\n",
       "  allocs estimate:  0\n",
       "  --------------\n",
       "  minimum time:     96.434 ms (0.00% GC)\n",
       "  median time:      111.485 ms (0.00% GC)\n",
       "  mean time:        126.247 ms (0.00% GC)\n",
       "  maximum time:     229.535 ms (0.00% GC)\n",
       "  --------------\n",
       "  samples:          40\n",
       "  evals/sample:     1"
      ]
     },
     "execution_count": 30,
     "metadata": {},
     "output_type": "execute_result"
    }
   ],
   "source": [
    "# BLAS with 8 threaed \n",
    "BLAS.set_num_threads(8)\n",
    "@benchmark LinearAlgebra.mul!($Y, $(Transpose(Afloat)), $X)"
   ]
  },
  {
   "cell_type": "markdown",
   "metadata": {},
   "source": [
    "But if $B$ is a large matrix too, single threaded BLAS is ~6 times faster and >10x faster for 8 thread BLAS. "
   ]
  },
  {
   "cell_type": "code",
   "execution_count": 31,
   "metadata": {
    "collapsed": false
   },
   "outputs": [
    {
     "data": {
      "text/plain": [
       "BenchmarkTools.Trial: \n",
       "  memory estimate:  304 bytes\n",
       "  allocs estimate:  1\n",
       "  --------------\n",
       "  minimum time:     6.196 s (0.00% GC)\n",
       "  median time:      6.196 s (0.00% GC)\n",
       "  mean time:        6.196 s (0.00% GC)\n",
       "  maximum time:     6.196 s (0.00% GC)\n",
       "  --------------\n",
       "  samples:          1\n",
       "  evals/sample:     1"
      ]
     },
     "execution_count": 31,
     "metadata": {},
     "output_type": "execute_result"
    }
   ],
   "source": [
    "# SnpLinAlg-matrix\n",
    "p = 100\n",
    "X = rand(m, p)\n",
    "Y = zeros(n, p)\n",
    "@benchmark LinearAlgebra.mul!($Y, $(Transpose(A)), $X)"
   ]
  },
  {
   "cell_type": "code",
   "execution_count": 32,
   "metadata": {
    "collapsed": false
   },
   "outputs": [
    {
     "data": {
      "text/plain": [
       "BenchmarkTools.Trial: \n",
       "  memory estimate:  0 bytes\n",
       "  allocs estimate:  0\n",
       "  --------------\n",
       "  minimum time:     1.013 s (0.00% GC)\n",
       "  median time:      1.055 s (0.00% GC)\n",
       "  mean time:        1.111 s (0.00% GC)\n",
       "  maximum time:     1.310 s (0.00% GC)\n",
       "  --------------\n",
       "  samples:          5\n",
       "  evals/sample:     1"
      ]
     },
     "execution_count": 32,
     "metadata": {},
     "output_type": "execute_result"
    }
   ],
   "source": [
    "# BLAS with 1 threaed \n",
    "BLAS.set_num_threads(1)\n",
    "@benchmark LinearAlgebra.mul!($Y, $(Transpose(Afloat)), $X)"
   ]
  },
  {
   "cell_type": "code",
   "execution_count": 33,
   "metadata": {
    "collapsed": false
   },
   "outputs": [
    {
     "data": {
      "text/plain": [
       "BenchmarkTools.Trial: \n",
       "  memory estimate:  0 bytes\n",
       "  allocs estimate:  0\n",
       "  --------------\n",
       "  minimum time:     221.024 ms (0.00% GC)\n",
       "  median time:      284.014 ms (0.00% GC)\n",
       "  mean time:        286.916 ms (0.00% GC)\n",
       "  maximum time:     422.793 ms (0.00% GC)\n",
       "  --------------\n",
       "  samples:          18\n",
       "  evals/sample:     1"
      ]
     },
     "execution_count": 33,
     "metadata": {},
     "output_type": "execute_result"
    }
   ],
   "source": [
    "# BLAS with 8 threaed \n",
    "BLAS.set_num_threads(8)\n",
    "@benchmark LinearAlgebra.mul!($Y, $(Transpose(Afloat)), $X)"
   ]
  },
  {
   "cell_type": "markdown",
   "metadata": {},
   "source": [
    "## Conclusion\n",
    "\n",
    "+ `SnpLinAlg` (for CPU)\n",
    "    - achieves up to 32x memory savings compared to double-precision matrices\n",
    "    - is usually faster than single threaded BLAS for matrix-vector multiply.\n",
    "    - is competitive with single threaded BLAS for matrix-matrix multiply if $B$ is \"tall and thin\"\n",
    "+ `CuSnpArray` supports GPU matrix-vector operations that is 30-50x faster than multithreaded BLAS. \n",
    "+ Other linear algebra operations (e.g. $v*A$ and $qr(A)$...etc) will be *much* slower than are not guaranteed to work. "
   ]
  }
 ],
 "metadata": {
  "kernelspec": {
   "display_name": "Julia 1.6.0",
   "language": "julia",
   "name": "julia-1.6"
  },
  "language_info": {
   "file_extension": ".jl",
   "mimetype": "application/julia",
   "name": "julia",
   "version": "1.6.0"
  }
 },
 "nbformat": 4,
 "nbformat_minor": 4
}
