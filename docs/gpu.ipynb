{
 "cells": [
  {
   "cell_type": "markdown",
   "metadata": {},
   "source": [
    "# Using GPU"
   ]
  },
  {
   "cell_type": "markdown",
   "metadata": {},
   "source": [
    "**Note: This notebook fails to run on a macbook due to [a bug](https://github.com/JuliaGPU/OpenCL.jl/issues/176) in OpenCL.jl. If you are on macbook, try running the file gpu_example.jl directly from your terminal.**"
   ]
  },
  {
   "cell_type": "markdown",
   "metadata": {},
   "source": [
    "The following are implemented on GPU via OpenCL.\n",
    "\n",
    "- `SnpCLVariables(z, x, y; model=ADDITIVE_MODEL, center=true, scale=true)`. All other models, centering option, non-scaling are not supported yet.\n",
    "- `mul!(Xty::AbstractVector{T}, Xt::Transpose{UInt8, SnpArray}, y::AbstractVector{T}; v::SnpCLVariables) where T <: Union{Float64, Float32}`. Based on Kevin L. Keys's kernels on [PLINK.jl](https://github.com/klkeys/PLINK.jl)."
   ]
  },
  {
   "cell_type": "code",
   "execution_count": 1,
   "metadata": {},
   "outputs": [],
   "source": [
    "] activate .."
   ]
  },
  {
   "cell_type": "code",
   "execution_count": 2,
   "metadata": {},
   "outputs": [
    {
     "name": "stdout",
     "output_type": "stream",
     "text": [
      "Julia Version 1.0.1\n",
      "Commit 0d713926f8 (2018-09-29 19:05 UTC)\n",
      "Platform Info:\n",
      "  OS: Linux (x86_64-pc-linux-gnu)\n",
      "  CPU: Intel(R) Xeon(R) CPU E5-2680 v2 @ 2.80GHz\n",
      "  WORD_SIZE: 64\n",
      "  LIBM: libopenlibm\n",
      "  LLVM: libLLVM-6.0.0 (ORCJIT, ivybridge)\n"
     ]
    }
   ],
   "source": [
    "versioninfo()"
   ]
  },
  {
   "cell_type": "code",
   "execution_count": 3,
   "metadata": {},
   "outputs": [],
   "source": [
    "using SnpArrays, OpenCL, LinearAlgebra, BenchmarkTools"
   ]
  },
  {
   "cell_type": "markdown",
   "metadata": {},
   "source": [
    "First, let's view the information of platform and the device."
   ]
  },
  {
   "cell_type": "code",
   "execution_count": 4,
   "metadata": {},
   "outputs": [
    {
     "name": "stdout",
     "output_type": "stream",
     "text": [
      "Platform name:    NVIDIA CUDA\n",
      "Platform profile: FULL_PROFILE\n",
      "Platform vendor:  NVIDIA Corporation\n",
      "Platform version: OpenCL 1.2 CUDA 10.1.113\n",
      "\n",
      "Device name: GeForce GTX 1080\n",
      "Device type: gpu\n",
      "Device mem: 8120 MB\n",
      "Device max mem alloc: 2030 MB\n",
      "Device max clock freq: 1733 MHZ\n",
      "Device max compute units: 20\n",
      "Device max work group size: 1024\n",
      "Device max work item size: (1024, 1024, 64)\n"
     ]
    },
    {
     "data": {
      "text/plain": [
       "OpenCL.Device(GeForce GTX 1080 on NVIDIA CUDA @0x0000000002a81c60)"
      ]
     },
     "execution_count": 4,
     "metadata": {},
     "output_type": "execute_result"
    }
   ],
   "source": [
    "using Printf\n",
    "# The below is taken from JuliaGPU/OpenCL.jl/examples/performance.jl\n",
    "\n",
    "# platform information\n",
    "platform = first(cl.platforms())\n",
    "@printf(\"Platform name:    %s\\n\",  platform[:name])\n",
    "@printf(\"Platform profile: %s\\n\",  platform[:profile])\n",
    "@printf(\"Platform vendor:  %s\\n\",  platform[:vendor])\n",
    "@printf(\"Platform version: %s\\n\",  platform[:version])\n",
    "\n",
    "println()\n",
    "# device information\n",
    "device = last(cl.devices(:gpu))\n",
    "@printf(\"Device name: %s\\n\", device[:name])\n",
    "@printf(\"Device type: %s\\n\", device[:device_type])\n",
    "@printf(\"Device mem: %i MB\\n\",           device[:global_mem_size] / 1024^2)\n",
    "@printf(\"Device max mem alloc: %i MB\\n\", device[:max_mem_alloc_size] / 1024^2)\n",
    "@printf(\"Device max clock freq: %i MHZ\\n\",  device[:max_clock_frequency])\n",
    "@printf(\"Device max compute units: %i\\n\",   device[:max_compute_units])\n",
    "@printf(\"Device max work group size: %i\\n\", device[:max_work_group_size])\n",
    "@printf(\"Device max work item size: %s\\n\",  device[:max_work_item_size])\n",
    "\n",
    "device = last(cl.devices(:gpu)) # This selection is the default for SnpCLVariables in order to use AMD GPU on mac. "
   ]
  },
  {
   "cell_type": "markdown",
   "metadata": {},
   "source": [
    "Loading EUR data:"
   ]
  },
  {
   "cell_type": "code",
   "execution_count": 5,
   "metadata": {},
   "outputs": [
    {
     "data": {
      "text/plain": [
       "(379, 54051)"
      ]
     },
     "execution_count": 5,
     "metadata": {},
     "output_type": "execute_result"
    }
   ],
   "source": [
    "# setting up\n",
    "const EUR = SnpArray(SnpArrays.datadir(\"EUR_subset.bed\"));\n",
    "X = EUR\n",
    "m,n  = size(EUR)"
   ]
  },
  {
   "cell_type": "markdown",
   "metadata": {},
   "source": [
    "A random vector to be multiplied to transpose(X):"
   ]
  },
  {
   "cell_type": "code",
   "execution_count": 6,
   "metadata": {},
   "outputs": [],
   "source": [
    "using Random\n",
    "Random.seed!(95376)\n",
    "y = randn(m);"
   ]
  },
  {
   "cell_type": "markdown",
   "metadata": {},
   "source": [
    "SnpBitMatrix (which supports our CPU implementation for the same operation) and whrere to keep the result:"
   ]
  },
  {
   "cell_type": "code",
   "execution_count": 7,
   "metadata": {},
   "outputs": [],
   "source": [
    "X_bm = SnpBitMatrix{Float64}(X; model=ADDITIVE_MODEL, center=true, scale=true);"
   ]
  },
  {
   "cell_type": "markdown",
   "metadata": {},
   "source": [
    "Where to keep the results:"
   ]
  },
  {
   "cell_type": "code",
   "execution_count": 8,
   "metadata": {},
   "outputs": [],
   "source": [
    "z_bm = Vector{Float64}(undef, n)\n",
    "z = Vector{Float64}(undef, n) ;"
   ]
  },
  {
   "cell_type": "markdown",
   "metadata": {},
   "source": [
    "We also make 32-bit storages corresponding to `y` and `z`."
   ]
  },
  {
   "cell_type": "code",
   "execution_count": 9,
   "metadata": {},
   "outputs": [],
   "source": [
    "y32 = convert(Array{Float32}, y)\n",
    "z32 = convert(Array{Float32}, z);"
   ]
  },
  {
   "cell_type": "markdown",
   "metadata": {},
   "source": [
    "An `SnpCLVariables` is necessary for GPU operation."
   ]
  },
  {
   "cell_type": "code",
   "execution_count": 10,
   "metadata": {},
   "outputs": [
    {
     "data": {
      "text/plain": [
       "SnpCLVariables{Float32,OpenCL.cl.Buffer{Float32}}(Buffer{Float32}(@0x0000000006a8eec0), Buffer{UInt8}(@0x0000000006575310), Buffer{Float32}(@0x0000000006a92e50), Buffer{Int64}(@0x0000000006a9af50), OpenCL.Device(GeForce GTX 1080 on NVIDIA CUDA @0x0000000002a81c60), OpenCL.Context(@0x00000000048ba5f0 on GeForce GTX 1080), OpenCL.CmdQueue(@0x00000000064aa2d0), Buffer{Float32}(@0x00000000052944b0), Buffer{Float32}(@0x000000000246be00), Buffer{Float32}(@0x0000000006b260d0), OpenCL.Kernel(\"compute_xt_times_vector\" nargs=12), OpenCL.Kernel(\"reduce_xt_vec_chunks\" nargs=7), OpenCL.Kernel(\"reset_x\" nargs=3), 256, 2, 423, 379, 54051, 379, 54051, 2, 95, 256, 1, 108102, OpenCL.cl.LocalMem{Float32}(0x0000000000000400))"
      ]
     },
     "execution_count": 10,
     "metadata": {},
     "output_type": "execute_result"
    }
   ],
   "source": [
    "v = SnpCLVariables(z, X, y)\n",
    "v32 = SnpCLVariables(z32, X, y32)"
   ]
  },
  {
   "cell_type": "markdown",
   "metadata": {},
   "source": [
    "The following block compares running time of CPU version, 64-bit GPU version, and 32-bit GPU version (lower precision)."
   ]
  },
  {
   "cell_type": "code",
   "execution_count": null,
   "metadata": {},
   "outputs": [],
   "source": [
    "# benchmarks\n",
    "print(\"Benchmark time for CPU version (via SnpBitMatrix): \")\n",
    "mul!(z_bm, transpose(X_bm), y)\n",
    "@btime mul!(z_bm, transpose(X_bm), y)\n",
    "\n",
    "print(\"Benchmark time for GPU version (64-bit): \")\n",
    "mul!(z, transpose(X), y; v=v)\n",
    "@btime mul!(z, transpose(X), y; v=v)\n",
    "\n",
    "print(\"Benchmark time for GPU version (32-bit): \")\n",
    "mul!(z32, transpose(X), y32; v=v32)\n",
    "@btime mul!(z32, transpose(X), y32; v=v32);"
   ]
  },
  {
   "cell_type": "markdown",
   "metadata": {},
   "source": [
    "GPU version is 20-35x faster than the CPU SnpBitMatrix implementation in this case. On a Macbook Pro with with a AMD Radeon Pro 560,\n",
    " \n",
    "```\n",
    "julia> versioninfo()\n",
    "Julia Version 1.1.1\n",
    "Commit 55e36cc (2019-05-16 04:10 UTC)\n",
    "Platform Info:\n",
    "  OS: macOS (x86_64-apple-darwin15.6.0)\n",
    "  CPU: Intel(R) Core(TM) i7-7820HQ CPU @ 2.90GHz\n",
    "  WORD_SIZE: 64\n",
    "  LIBM: libopenlibm\n",
    "  LLVM: libLLVM-6.0.1 (ORCJIT, skylake)\n",
    "```\n",
    "\n",
    " the benchmark timing (running the examples/gpu_example.jl) was:\n",
    "```\n",
    "Benchmark time for CPU version (via SnpBitMatrix):   74.001 ms (1 allocation: 16 bytes)\n",
    "Benchmark time for GPU version (64-bit):   7.962 ms (304 allocations: 17.03 KiB)\n",
    "Benchmark time for GPU version (32-bit):   6.642 ms (299 allocations: 16.88 KiB)\n",
    "```"
   ]
  },
  {
   "cell_type": "markdown",
   "metadata": {},
   "source": [
    "Finally, we check the correctness of GPU operations."
   ]
  },
  {
   "cell_type": "code",
   "execution_count": null,
   "metadata": {},
   "outputs": [],
   "source": [
    "# check correctness\n",
    "@assert isapprox(z, z_bm; rtol=1e-12)\n",
    "@assert isapprox(z32, z_bm; rtol=1e-5)"
   ]
  }
 ],
 "metadata": {
  "kernelspec": {
   "display_name": "Julia 1.0.1",
   "language": "julia",
   "name": "julia-1.0"
  },
  "language_info": {
   "file_extension": ".jl",
   "mimetype": "application/julia",
   "name": "julia",
   "version": "1.0.1"
  }
 },
 "nbformat": 4,
 "nbformat_minor": 2
}
