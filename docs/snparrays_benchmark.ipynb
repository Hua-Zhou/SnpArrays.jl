{
 "cells": [
  {
   "cell_type": "markdown",
   "metadata": {},
   "source": [
    "# SnpArrayBM - SnpArray Bench Mark"
   ]
  },
  {
   "cell_type": "markdown",
   "metadata": {},
   "source": [
    "Instead of storing genotype data as two BitArrays, SnpArrayBM stores genotype data as a 3-D (2 x number of people x number of SNPs) BitArray."
   ]
  },
  {
   "cell_type": "markdown",
   "metadata": {},
   "source": [
    "## Constructor - load from PLINK file"
   ]
  },
  {
   "cell_type": "code",
   "execution_count": 2,
   "metadata": {
    "collapsed": false
   },
   "outputs": [
    {
     "name": "stdout",
     "output_type": "stream",
     "text": [
      " 45.835913 seconds (442.50 k allocations: 1023.738 MB, 0.02% gc time)\n",
      " 43.599978 seconds (139.47 k allocations: 1009.586 MB, 0.05% gc time)\n"
     ]
    },
    {
     "data": {
      "text/plain": [
       "SnpArrays.SnpArrayBM{3}(2x6670x630860 BitArray{3}:\n",
       "[:, :, 1] =\n",
       "  true  false  false  false  false  …  false  false  false   true  false\n",
       " false  false  false  false  false     false  false  false  false  false\n",
       "\n",
       "[:, :, 2] =\n",
       "  true  false  false  false  false  …  false  false  false   true  false\n",
       " false  false  false  false  false     false  false  false  false  false\n",
       "\n",
       "[:, :, 3] =\n",
       " false   true   true  false  false  …   true  false  false  false  false\n",
       " false  false  false  false  false     false  false  false  false  false\n",
       "\n",
       "...\n",
       "\n",
       "[:, :, 630858] =\n",
       " false  false  false   true  false  …  false   true  false  false  false\n",
       " false  false  false  false  false     false  false  false  false  false\n",
       "\n",
       "[:, :, 630859] =\n",
       " false   true  false   true  false  …  false   true  false  false  false\n",
       " false  false  false  false  false     false  false  false  false  false\n",
       "\n",
       "[:, :, 630860] =\n",
       " false  false  false  false   true  …  false  false   true  false  false\n",
       " false   true  false  false  false     false  false  false  false  false)"
      ]
     },
     "execution_count": 2,
     "metadata": {},
     "output_type": "execute_result"
    }
   ],
   "source": [
    "include(\"../src/SnpArrays.jl\")\n",
    "using SnpArrays\n",
    "@time sa = SnpArray(\"/home/huwenbo/Huwenbo/CG10kNhwHg19Clean_v2_Mar2013\")\n",
    "@time sabm = SnpArrayBM(\"/home/huwenbo/Huwenbo/CG10kNhwHg19Clean_v2_Mar2013\")"
   ]
  },
  {
   "cell_type": "code",
   "execution_count": 3,
   "metadata": {
    "collapsed": false
   },
   "outputs": [
    {
     "name": "stdout",
     "output_type": "stream",
     "text": [
      " 47.987816 seconds (46.31 k allocations: 11.831 MB, 0.01% gc time)\n",
      " 44.317778 seconds (33.33 k allocations: 11.222 MB)\n"
     ]
    },
    {
     "data": {
      "text/plain": [
       "([0.0292985,0.029582,0.0285821,0.129765,0.0753005,0.0944965,0.0534632,0.060981,0.00158178,0.160587  …  0.0654164,0.396382,0.151038,0.0279263,0.042136,0.134471,0.00601695,0.00216811,0.0257447,0.0279984],Bool[false,false,false,false,false,false,false,false,false,false  …  false,false,false,false,false,false,false,false,false,false],[1994,2005,1317,2551,2261,2400,2050,2144,348,2750  …  2191,3326,2767,1621,1876,2684,770,674,1601,1509],[210528,209232,208136,209791,208502,208636,208738,209516,207831,207753  …  215146,210366,206077,210954,207285,209668,207693,208284,205843,208107])"
      ]
     },
     "execution_count": 3,
     "metadata": {},
     "output_type": "execute_result"
    }
   ],
   "source": [
    "@time summarize(sa)\n",
    "@time summarize(sabm)"
   ]
  },
  {
   "cell_type": "code",
   "execution_count": null,
   "metadata": {
    "collapsed": true
   },
   "outputs": [],
   "source": []
  }
 ],
 "metadata": {
  "kernelspec": {
   "display_name": "Julia 0.4.5",
   "language": "julia",
   "name": "julia-0.4"
  },
  "language_info": {
   "file_extension": ".jl",
   "mimetype": "application/julia",
   "name": "julia",
   "version": "0.4.5"
  }
 },
 "nbformat": 4,
 "nbformat_minor": 0
}
