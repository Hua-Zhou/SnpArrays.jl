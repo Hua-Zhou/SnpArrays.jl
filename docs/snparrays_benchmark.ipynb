{
 "cells": [
  {
   "cell_type": "markdown",
   "metadata": {},
   "source": [
    "# SnpArrayBM - SnpArray Bench Mark"
   ]
  },
  {
   "cell_type": "markdown",
   "metadata": {},
   "source": [
    "Instead of storing genotype data as two BitArrays, SnpArrayBM stores genotype data as a 3-D (2 x number of people x number of SNPs) BitArray."
   ]
  },
  {
   "cell_type": "markdown",
   "metadata": {
    "collapsed": true
   },
   "source": [
    "```julia\n",
    "type SnpArrayBM{N} <: AbstractArray{NTuple{2, Bool}, N}\n",
    "  A::BitArray{N}\n",
    "end\n",
    "```"
   ]
  },
  {
   "cell_type": "markdown",
   "metadata": {},
   "source": [
    "## Constructor - load from PLINK file"
   ]
  },
  {
   "cell_type": "code",
   "execution_count": 1,
   "metadata": {
    "collapsed": false
   },
   "outputs": [
    {
     "name": "stdout",
     "output_type": "stream",
     "text": [
      " 91.030842 seconds (501.67 k allocations: 1.888 GB, 0.01% gc time)\n",
      " 85.794703 seconds (195.00 k allocations: 1.874 GB, 0.03% gc time)\n"
     ]
    }
   ],
   "source": [
    "include(\"../src/SnpArrays.jl\");\n",
    "using SnpArrays, BaseTestNext;\n",
    "@time sa = SnpArray(\"/home/huwenbo/Huwenbo/merge-geno\");\n",
    "@time sabm = SnpArrayBM(\"/home/huwenbo/Huwenbo/merge-geno\");\n",
    "#@time sa = SnpArray(\"../docs/hapmap3\");\n",
    "#@time sabm = SnpArrayBM(\"../docs/hapmap3\");"
   ]
  },
  {
   "cell_type": "markdown",
   "metadata": {},
   "source": [
    "## Test getindex"
   ]
  },
  {
   "cell_type": "code",
   "execution_count": 2,
   "metadata": {
    "collapsed": false
   },
   "outputs": [
    {
     "ename": "LoadError",
     "evalue": "LoadError: InterruptException:\nwhile loading In[2], in expression starting on line 2",
     "output_type": "error",
     "traceback": [
      "LoadError: InterruptException:\nwhile loading In[2], in expression starting on line 2",
      ""
     ]
    }
   ],
   "source": [
    "n,p = size(sa)\n",
    "for j=1:p\n",
    "    for i=1:n\n",
    "        @test sa[i,j] == sabm[i,j];\n",
    "    end\n",
    "end"
   ]
  },
  {
   "cell_type": "markdown",
   "metadata": {},
   "source": [
    "## Test summarize"
   ]
  },
  {
   "cell_type": "code",
   "execution_count": null,
   "metadata": {
    "collapsed": false
   },
   "outputs": [],
   "source": [
    "@time maf1, _, _, _ = summarize(sa);\n",
    "@time maf2, _, _, _ = summarize(sabm);\n",
    "for i=1:n\n",
    "    @test maf1[i] == maf2[i];\n",
    "end"
   ]
  },
  {
   "cell_type": "markdown",
   "metadata": {
    "collapsed": true
   },
   "source": [
    "## Test GRM"
   ]
  },
  {
   "cell_type": "code",
   "execution_count": 4,
   "metadata": {
    "collapsed": false
   },
   "outputs": [
    {
     "name": "stdout",
     "output_type": "stream",
     "text": [
      "171.804170 seconds (334.19 k allocations: 1.674 GB, 0.04% gc time)\n"
     ]
    },
    {
     "ename": "LoadError",
     "evalue": "LoadError: OutOfMemoryError()\nwhile loading In[4], in expression starting on line 155",
     "output_type": "error",
     "traceback": [
      "LoadError: OutOfMemoryError()\nwhile loading In[4], in expression starting on line 155",
      ""
     ]
    }
   ],
   "source": [
    "@time grm(sa; method=:GRM);\n",
    "@time grm(sabm; method=:GRM);"
   ]
  },
  {
   "cell_type": "markdown",
   "metadata": {},
   "source": [
    "## Test MoM"
   ]
  },
  {
   "cell_type": "code",
   "execution_count": null,
   "metadata": {
    "collapsed": false,
    "scrolled": true
   },
   "outputs": [],
   "source": [
    "@time grm(sa; method=:MoM);\n",
    "@time grm(sabm; method=:MoM);"
   ]
  },
  {
   "cell_type": "markdown",
   "metadata": {},
   "source": [
    "## Test PCA"
   ]
  },
  {
   "cell_type": "code",
   "execution_count": null,
   "metadata": {
    "collapsed": false,
    "scrolled": true
   },
   "outputs": [],
   "source": [
    "@time _, _, v1 = pca(sa);\n",
    "@time _, _, v2 = pca(sabm);\n",
    "for i=1:6\n",
    "    @show v1[i], v2[i]\n",
    "end"
   ]
  },
  {
   "cell_type": "code",
   "execution_count": null,
   "metadata": {
    "collapsed": true
   },
   "outputs": [],
   "source": []
  }
 ],
 "metadata": {
  "kernelspec": {
   "display_name": "Julia 0.4.5",
   "language": "julia",
   "name": "julia-0.4"
  },
  "language_info": {
   "file_extension": ".jl",
   "mimetype": "application/julia",
   "name": "julia",
   "version": "0.4.5"
  }
 },
 "nbformat": 4,
 "nbformat_minor": 0
}
