{
 "cells": [
  {
   "cell_type": "markdown",
   "metadata": {},
   "source": [
    "# SnpArrayBM - SnpArray Bench Mark"
   ]
  },
  {
   "cell_type": "markdown",
   "metadata": {},
   "source": [
    "Instead of storing genotype data as two BitArrays, SnpArrayBM stores genotype data as a 3-D (2 x number of people x number of SNPs) BitArray."
   ]
  },
  {
   "cell_type": "markdown",
   "metadata": {
    "collapsed": true
   },
   "source": [
    "```julia\n",
    "type SnpArrayBM{N} <: AbstractArray{NTuple{2, Bool}, N}\n",
    "  A::BitArray{N}\n",
    "end\n",
    "```"
   ]
  },
  {
   "cell_type": "markdown",
   "metadata": {},
   "source": [
    "## Constructor - load from PLINK file"
   ]
  },
  {
   "cell_type": "code",
   "execution_count": 13,
   "metadata": {
    "collapsed": false
   },
   "outputs": [
    {
     "name": "stdout",
     "output_type": "stream",
     "text": [
      "  0.083832 seconds (186 allocations: 1.102 MB)\n",
      "  0.061803 seconds (178 allocations: 1.101 MB)\n"
     ]
    }
   ],
   "source": [
    "include(\"../src/SnpArrays.jl\");\n",
    "using SnpArrays, BaseTestNext;\n",
    "@time sa = SnpArray(\"../docs/hapmap3\");\n",
    "@time sabm = SnpArrayBM(\"../docs/hapmap3\");"
   ]
  },
  {
   "cell_type": "markdown",
   "metadata": {},
   "source": [
    "## Test getindex"
   ]
  },
  {
   "cell_type": "code",
   "execution_count": 2,
   "metadata": {
    "collapsed": false
   },
   "outputs": [],
   "source": [
    "n,p = size(sa)\n",
    "for j=1:p\n",
    "    for i=1:n\n",
    "        @test sa[i,j] == sabm[i,j];\n",
    "    end\n",
    "end"
   ]
  },
  {
   "cell_type": "markdown",
   "metadata": {},
   "source": [
    "## Test summarize"
   ]
  },
  {
   "cell_type": "code",
   "execution_count": 12,
   "metadata": {
    "collapsed": false
   },
   "outputs": [
    {
     "name": "stdout",
     "output_type": "stream",
     "text": [
      "  0.064023 seconds (18 allocations: 222.516 KB)\n",
      "  0.056310 seconds (18 allocations: 222.516 KB)\n"
     ]
    }
   ],
   "source": [
    "@time maf1, _, _, _ = summarize(sa);\n",
    "@time maf2, _, _, _ = summarize(sabm);\n",
    "for i=1:n\n",
    "    @test maf1[i] == maf2[i];\n",
    "end"
   ]
  },
  {
   "cell_type": "markdown",
   "metadata": {
    "collapsed": true
   },
   "source": [
    "## Test GRM"
   ]
  },
  {
   "cell_type": "code",
   "execution_count": 11,
   "metadata": {
    "collapsed": false
   },
   "outputs": [
    {
     "name": "stdout",
     "output_type": "stream",
     "text": [
      "  0.124313 seconds (15 allocations: 35.231 MB, 0.97% gc time)\n",
      "  0.138014 seconds (15 allocations: 35.231 MB, 0.75% gc time)\n"
     ]
    }
   ],
   "source": [
    "@time grm(sa; method=:GRM);\n",
    "@time grm(sabm; method=:GRM);"
   ]
  },
  {
   "cell_type": "markdown",
   "metadata": {},
   "source": [
    "## Test MoM"
   ]
  },
  {
   "cell_type": "code",
   "execution_count": 8,
   "metadata": {
    "collapsed": false,
    "scrolled": true
   },
   "outputs": [
    {
     "name": "stdout",
     "output_type": "stream",
     "text": [
      "  0.228014 seconds (25 allocations: 35.448 MB, 1.41% gc time)\n",
      "  0.209778 seconds (25 allocations: 35.448 MB, 0.65% gc time)\n"
     ]
    }
   ],
   "source": [
    "@time grm(sa; method=:MoM);\n",
    "@time grm(sabm; method=:MoM);"
   ]
  },
  {
   "cell_type": "markdown",
   "metadata": {},
   "source": [
    "## Test PCA"
   ]
  },
  {
   "cell_type": "code",
   "execution_count": 7,
   "metadata": {
    "collapsed": false,
    "scrolled": true
   },
   "outputs": [
    {
     "name": "stdout",
     "output_type": "stream",
     "text": [
      "  1.522002 seconds (4.53 k allocations: 110.433 MB, 0.49% gc time)\n",
      "  1.341803 seconds (4.37 k allocations: 106.513 MB, 0.29% gc time)\n",
      "(v1[i],v2[i]) = (1841.212290037642,1841.1394804972747)\n",
      "(v1[i],v2[i]) = (225.36897175041923,225.313378902105)\n",
      "(v1[i],v2[i]) = (70.73259633894456,70.66751799295083)\n",
      "(v1[i],v2[i]) = (70.00321616359496,69.87869876413833)\n",
      "(v1[i],v2[i]) = (69.01676505755543,69.0603365100439)\n",
      "(v1[i],v2[i]) = (67.85534745015931,67.93095431461947)\n"
     ]
    }
   ],
   "source": [
    "@time _, _, v1 = pca(sa);\n",
    "@time _, _, v2 = pca(sabm);\n",
    "for i=1:6\n",
    "    @show v1[i], v2[i]\n",
    "end"
   ]
  },
  {
   "cell_type": "code",
   "execution_count": null,
   "metadata": {
    "collapsed": true
   },
   "outputs": [],
   "source": []
  }
 ],
 "metadata": {
  "kernelspec": {
   "display_name": "Julia 0.4.5",
   "language": "julia",
   "name": "julia-0.4"
  },
  "language_info": {
   "file_extension": ".jl",
   "mimetype": "application/julia",
   "name": "julia",
   "version": "0.4.5"
  }
 },
 "nbformat": 4,
 "nbformat_minor": 0
}
