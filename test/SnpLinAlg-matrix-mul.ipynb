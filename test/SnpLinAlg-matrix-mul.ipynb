{
 "cells": [
  {
   "cell_type": "code",
   "execution_count": 1,
   "metadata": {
    "collapsed": false,
    "scrolled": true
   },
   "outputs": [
    {
     "name": "stderr",
     "output_type": "stream",
     "text": [
      "┌ Info: Precompiling SnpArrays [4e780e97-f5bf-4111-9dc4-b70aaf691b06]\n",
      "└ @ Base loading.jl:1317\n",
      "WARNING: could not import DataFrames.DataFrame! into SnpArrays\n",
      "┌ Info: Precompiling MendelIHT [921c7187-1484-5754-b919-5d3ed9ac03c4]\n",
      "└ @ Base loading.jl:1317\n"
     ]
    }
   ],
   "source": [
    "using Revise\n",
    "using SnpArrays\n",
    "using LinearAlgebra\n",
    "using Random\n",
    "using LoopVectorization\n",
    "using MendelIHT\n",
    "using BenchmarkTools"
   ]
  },
  {
   "cell_type": "markdown",
   "metadata": {},
   "source": [
    "## Correctness: No center/scale/impute"
   ]
  },
  {
   "cell_type": "code",
   "execution_count": 3,
   "metadata": {
    "collapsed": false
   },
   "outputs": [
    {
     "name": "stdout",
     "output_type": "stream",
     "text": [
      "all(C .≈ Ctrue) = true\n"
     ]
    },
    {
     "data": {
      "text/plain": [
       "true"
      ]
     },
     "execution_count": 3,
     "metadata": {},
     "output_type": "execute_result"
    }
   ],
   "source": [
    "# x = SnpArray(SnpArrays.datadir(\"EUR_subset.bed\"))\n",
    "m = 4097\n",
    "n = 1025\n",
    "p = 1025\n",
    "x = simulate_random_snparray(undef, m, n)\n",
    "\n",
    "A = SnpLinAlg{Float64}(x, model=ADDITIVE_MODEL, impute=false, center=false, scale=false)\n",
    "B = ones(n, p)\n",
    "C = zeros(m, p)\n",
    "LinearAlgebra.mul!(C, A, B)\n",
    "\n",
    "Ctrue = convert(Matrix{Float64}, x, model=ADDITIVE_MODEL) * B\n",
    "@show all(C .≈ Ctrue)"
   ]
  },
  {
   "cell_type": "markdown",
   "metadata": {},
   "source": [
    "## Speed: SnpLinAlg-(matrix) vs multiple SnpLinAlg-vector"
   ]
  },
  {
   "cell_type": "code",
   "execution_count": 5,
   "metadata": {
    "collapsed": false
   },
   "outputs": [
    {
     "data": {
      "text/plain": [
       "adhoc_mul! (generic function with 1 method)"
      ]
     },
     "execution_count": 5,
     "metadata": {},
     "output_type": "execute_result"
    }
   ],
   "source": [
    "# C = AB by multiple C[:, i] = AB[:, i]\n",
    "function adhoc_mul!(\n",
    "    out::AbstractMatrix, \n",
    "    st::AbstractSnpLinAlg,\n",
    "    v::AbstractMatrix)\n",
    "    for i in 1:size(v, 2)\n",
    "        outi = @view(out[:, i])\n",
    "        vi = @view(v[:, i])\n",
    "        SnpArrays.mul!(outi, st, vi)\n",
    "    end\n",
    "end"
   ]
  },
  {
   "cell_type": "markdown",
   "metadata": {},
   "source": [
    "### q = 2"
   ]
  },
  {
   "cell_type": "code",
   "execution_count": 11,
   "metadata": {
    "collapsed": false
   },
   "outputs": [
    {
     "name": "stdout",
     "output_type": "stream",
     "text": [
      "M = 1273, Miter = 1, Mrem = 228\n",
      "N = 10000, Niter = 9, Nrem = 784\n",
      "P = 2, Piter = 0, Prem = 2\n"
     ]
    },
    {
     "data": {
      "text/plain": [
       "true"
      ]
     },
     "execution_count": 11,
     "metadata": {},
     "output_type": "execute_result"
    }
   ],
   "source": [
    "n = 5092   # number of samples\n",
    "p = 10000  # number of SNPs\n",
    "r = 2      # number of traits\n",
    "x = simulate_random_snparray(undef, n, p)\n",
    "\n",
    "# test correctness\n",
    "A = SnpLinAlg{Float64}(x, model=ADDITIVE_MODEL, impute=false, center=false, scale=false)\n",
    "B = ones(p, r)\n",
    "C = zeros(n, r)\n",
    "Ctest = zeros(n, r)\n",
    "LinearAlgebra.mul!(C, A, B)\n",
    "adhoc_mul!(Ctest, A, B)\n",
    "all(Ctest .≈ C)"
   ]
  },
  {
   "cell_type": "code",
   "execution_count": 16,
   "metadata": {
    "collapsed": false
   },
   "outputs": [
    {
     "data": {
      "text/plain": [
       "BenchmarkTools.Trial: \n",
       "  memory estimate:  96 bytes\n",
       "  allocs estimate:  1\n",
       "  --------------\n",
       "  minimum time:     56.664 ms (0.00% GC)\n",
       "  median time:      59.099 ms (0.00% GC)\n",
       "  mean time:        59.197 ms (0.00% GC)\n",
       "  maximum time:     69.516 ms (0.00% GC)\n",
       "  --------------\n",
       "  samples:          85\n",
       "  evals/sample:     1"
      ]
     },
     "execution_count": 16,
     "metadata": {},
     "output_type": "execute_result"
    }
   ],
   "source": [
    "@benchmark LinearAlgebra.mul!($C, $A, $B) # SnpLinAlg-matrix"
   ]
  },
  {
   "cell_type": "code",
   "execution_count": 17,
   "metadata": {
    "collapsed": false
   },
   "outputs": [
    {
     "data": {
      "text/plain": [
       "BenchmarkTools.Trial: \n",
       "  memory estimate:  288 bytes\n",
       "  allocs estimate:  4\n",
       "  --------------\n",
       "  minimum time:     60.921 ms (0.00% GC)\n",
       "  median time:      62.778 ms (0.00% GC)\n",
       "  mean time:        62.858 ms (0.00% GC)\n",
       "  maximum time:     75.957 ms (0.00% GC)\n",
       "  --------------\n",
       "  samples:          80\n",
       "  evals/sample:     1"
      ]
     },
     "execution_count": 17,
     "metadata": {},
     "output_type": "execute_result"
    }
   ],
   "source": [
    "@benchmark adhoc_mul!($Ctest, $A, $B) # multiple SnpLinAlg-vector"
   ]
  },
  {
   "cell_type": "code",
   "execution_count": 18,
   "metadata": {
    "collapsed": false
   },
   "outputs": [
    {
     "data": {
      "text/plain": [
       "BenchmarkTools.Trial: \n",
       "  memory estimate:  0 bytes\n",
       "  allocs estimate:  0\n",
       "  --------------\n",
       "  minimum time:     17.510 ms (0.00% GC)\n",
       "  median time:      17.860 ms (0.00% GC)\n",
       "  mean time:        18.052 ms (0.00% GC)\n",
       "  maximum time:     21.712 ms (0.00% GC)\n",
       "  --------------\n",
       "  samples:          277\n",
       "  evals/sample:     1"
      ]
     },
     "execution_count": 18,
     "metadata": {},
     "output_type": "execute_result"
    }
   ],
   "source": [
    "Afloat = convert(Matrix{Float64}, A)\n",
    "BLAS.set_num_threads(8)\n",
    "@benchmark LinearAlgebra.mul!($C, $Afloat, $B) # BLAS with 8 threads"
   ]
  },
  {
   "cell_type": "code",
   "execution_count": 19,
   "metadata": {
    "collapsed": false
   },
   "outputs": [
    {
     "data": {
      "text/plain": [
       "BenchmarkTools.Trial: \n",
       "  memory estimate:  0 bytes\n",
       "  allocs estimate:  0\n",
       "  --------------\n",
       "  minimum time:     48.364 ms (0.00% GC)\n",
       "  median time:      50.801 ms (0.00% GC)\n",
       "  mean time:        51.121 ms (0.00% GC)\n",
       "  maximum time:     56.792 ms (0.00% GC)\n",
       "  --------------\n",
       "  samples:          98\n",
       "  evals/sample:     1"
      ]
     },
     "execution_count": 19,
     "metadata": {},
     "output_type": "execute_result"
    }
   ],
   "source": [
    "BLAS.set_num_threads(1)\n",
    "@benchmark LinearAlgebra.mul!($C, $Afloat, $B) # BLAS with 1 threads"
   ]
  },
  {
   "cell_type": "markdown",
   "metadata": {},
   "source": [
    "### q = 5"
   ]
  },
  {
   "cell_type": "code",
   "execution_count": 8,
   "metadata": {
    "collapsed": false
   },
   "outputs": [
    {
     "data": {
      "text/plain": [
       "true"
      ]
     },
     "execution_count": 8,
     "metadata": {},
     "output_type": "execute_result"
    }
   ],
   "source": [
    "n = 5092\n",
    "p = 10000\n",
    "q = 5\n",
    "x = simulate_random_snparray(undef, n, p)\n",
    "\n",
    "# test correctness\n",
    "A = SnpLinAlg{Float64}(x, model=ADDITIVE_MODEL, impute=false, center=false, scale=false)\n",
    "B = ones(p, q)\n",
    "C = zeros(n, q)\n",
    "Ctest = zeros(n, q)\n",
    "LinearAlgebra.mul!(C, A, B)\n",
    "adhoc_mul!(Ctest, A, B)\n",
    "all(Ctest .≈ C)"
   ]
  },
  {
   "cell_type": "code",
   "execution_count": 9,
   "metadata": {
    "collapsed": false
   },
   "outputs": [
    {
     "data": {
      "text/plain": [
       "BenchmarkTools.Trial: \n",
       "  memory estimate:  96 bytes\n",
       "  allocs estimate:  1\n",
       "  --------------\n",
       "  minimum time:     63.364 ms (0.00% GC)\n",
       "  median time:      66.311 ms (0.00% GC)\n",
       "  mean time:        66.760 ms (0.00% GC)\n",
       "  maximum time:     82.072 ms (0.00% GC)\n",
       "  --------------\n",
       "  samples:          75\n",
       "  evals/sample:     1"
      ]
     },
     "execution_count": 9,
     "metadata": {},
     "output_type": "execute_result"
    }
   ],
   "source": [
    "@benchmark LinearAlgebra.mul!($C, $A, $B) # SnpLinAlg-matrix"
   ]
  },
  {
   "cell_type": "code",
   "execution_count": 22,
   "metadata": {
    "collapsed": false
   },
   "outputs": [
    {
     "data": {
      "text/plain": [
       "BenchmarkTools.Trial: \n",
       "  memory estimate:  720 bytes\n",
       "  allocs estimate:  10\n",
       "  --------------\n",
       "  minimum time:     151.571 ms (0.00% GC)\n",
       "  median time:      153.847 ms (0.00% GC)\n",
       "  mean time:        154.455 ms (0.00% GC)\n",
       "  maximum time:     165.740 ms (0.00% GC)\n",
       "  --------------\n",
       "  samples:          33\n",
       "  evals/sample:     1"
      ]
     },
     "execution_count": 22,
     "metadata": {},
     "output_type": "execute_result"
    }
   ],
   "source": [
    "@benchmark adhoc_mul!($Ctest, $A, $B)"
   ]
  },
  {
   "cell_type": "code",
   "execution_count": 23,
   "metadata": {
    "collapsed": false
   },
   "outputs": [
    {
     "data": {
      "text/plain": [
       "BenchmarkTools.Trial: \n",
       "  memory estimate:  0 bytes\n",
       "  allocs estimate:  0\n",
       "  --------------\n",
       "  minimum time:     17.992 ms (0.00% GC)\n",
       "  median time:      18.381 ms (0.00% GC)\n",
       "  mean time:        18.582 ms (0.00% GC)\n",
       "  maximum time:     21.774 ms (0.00% GC)\n",
       "  --------------\n",
       "  samples:          269\n",
       "  evals/sample:     1"
      ]
     },
     "execution_count": 23,
     "metadata": {},
     "output_type": "execute_result"
    }
   ],
   "source": [
    "Afloat = convert(Matrix{Float64}, A)\n",
    "BLAS.set_num_threads(8)\n",
    "@benchmark LinearAlgebra.mul!($C, $Afloat, $B) # BLAS with 8 threads"
   ]
  },
  {
   "cell_type": "code",
   "execution_count": 24,
   "metadata": {
    "collapsed": false
   },
   "outputs": [
    {
     "data": {
      "text/plain": [
       "BenchmarkTools.Trial: \n",
       "  memory estimate:  0 bytes\n",
       "  allocs estimate:  0\n",
       "  --------------\n",
       "  minimum time:     54.639 ms (0.00% GC)\n",
       "  median time:      58.390 ms (0.00% GC)\n",
       "  mean time:        57.967 ms (0.00% GC)\n",
       "  maximum time:     63.756 ms (0.00% GC)\n",
       "  --------------\n",
       "  samples:          87\n",
       "  evals/sample:     1"
      ]
     },
     "execution_count": 24,
     "metadata": {},
     "output_type": "execute_result"
    }
   ],
   "source": [
    "BLAS.set_num_threads(1)\n",
    "@benchmark LinearAlgebra.mul!($C, $Afloat, $B) # BLAS with 1 threads"
   ]
  },
  {
   "cell_type": "markdown",
   "metadata": {},
   "source": [
    "## gesp vs @view"
   ]
  },
  {
   "cell_type": "code",
   "execution_count": 12,
   "metadata": {
    "collapsed": true
   },
   "outputs": [],
   "source": [
    "n = 5092\n",
    "p = 1000\n",
    "q = 1000\n",
    "x = simulate_random_snparray(undef, n, p)\n",
    "A = SnpLinAlg{Float64}(x, model=ADDITIVE_MODEL, impute=false, center=false, scale=false)\n",
    "B = ones(p, q)\n",
    "C = zeros(n, q);"
   ]
  },
  {
   "cell_type": "code",
   "execution_count": 13,
   "metadata": {
    "collapsed": false
   },
   "outputs": [
    {
     "data": {
      "text/plain": [
       "BenchmarkTools.Trial: \n",
       "  memory estimate:  96 bytes\n",
       "  allocs estimate:  1\n",
       "  --------------\n",
       "  minimum time:     1.104 s (0.00% GC)\n",
       "  median time:      1.113 s (0.00% GC)\n",
       "  mean time:        1.113 s (0.00% GC)\n",
       "  maximum time:     1.118 s (0.00% GC)\n",
       "  --------------\n",
       "  samples:          5\n",
       "  evals/sample:     1"
      ]
     },
     "execution_count": 13,
     "metadata": {},
     "output_type": "execute_result"
    }
   ],
   "source": [
    "@benchmark LinearAlgebra.mul!($C, $A, $B) # gesp"
   ]
  },
  {
   "cell_type": "code",
   "execution_count": 16,
   "metadata": {
    "collapsed": false
   },
   "outputs": [
    {
     "data": {
      "text/plain": [
       "BenchmarkTools.Trial: \n",
       "  memory estimate:  96 bytes\n",
       "  allocs estimate:  1\n",
       "  --------------\n",
       "  minimum time:     1.112 s (0.00% GC)\n",
       "  median time:      1.120 s (0.00% GC)\n",
       "  mean time:        1.120 s (0.00% GC)\n",
       "  maximum time:     1.126 s (0.00% GC)\n",
       "  --------------\n",
       "  samples:          5\n",
       "  evals/sample:     1"
      ]
     },
     "execution_count": 16,
     "metadata": {},
     "output_type": "execute_result"
    }
   ],
   "source": [
    "@benchmark LinearAlgebra.mul!($C, $A, $B) # @view"
   ]
  },
  {
   "cell_type": "markdown",
   "metadata": {},
   "source": [
    "## $Ax$"
   ]
  },
  {
   "cell_type": "code",
   "execution_count": 132,
   "metadata": {
    "collapsed": false
   },
   "outputs": [
    {
     "name": "stdout",
     "output_type": "stream",
     "text": [
      "M = 1023, Miter = 0, Mrem = 253, rows_filled = 4093 \n"
     ]
    },
    {
     "data": {
      "text/plain": [
       "\u001b[32m\u001b[1mTest Passed\u001b[22m\u001b[39m"
      ]
     },
     "execution_count": 132,
     "metadata": {},
     "output_type": "execute_result"
    }
   ],
   "source": [
    "using Revise\n",
    "using SnpArrays\n",
    "using LinearAlgebra\n",
    "using Random\n",
    "using LoopVectorization\n",
    "using MendelIHT\n",
    "using Test\n",
    "\n",
    "# any n between 4097 and 4099 doesn't work!\n",
    "n = 4093\n",
    "p = 10000\n",
    "x = simulate_random_snparray(undef, n, p, min_ma=0)\n",
    "\n",
    "A = SnpLinAlg{Float64}(x, model=ADDITIVE_MODEL, impute=false, center=false, scale=false)\n",
    "b = ones(p)\n",
    "c = A * b\n",
    "ctrue = convert(Matrix{Float64}, A) * b\n",
    "@test all(c .≈ ctrue)"
   ]
  },
  {
   "cell_type": "markdown",
   "metadata": {},
   "source": [
    "## $A^tx$"
   ]
  },
  {
   "cell_type": "code",
   "execution_count": 8,
   "metadata": {
    "collapsed": false
   },
   "outputs": [
    {
     "data": {
      "text/plain": [
       "\u001b[32m\u001b[1mTest Passed\u001b[22m\u001b[39m"
      ]
     },
     "execution_count": 8,
     "metadata": {},
     "output_type": "execute_result"
    }
   ],
   "source": [
    "using Revise\n",
    "using SnpArrays\n",
    "using LinearAlgebra\n",
    "using Random\n",
    "using LoopVectorization\n",
    "using MendelIHT\n",
    "using Test\n",
    "\n",
    "# any n between 8193 and 8195 doesn't work!\n",
    "n = 8193\n",
    "p = 1000\n",
    "x = simulate_random_snparray(undef, n, p, min_ma=0)\n",
    "\n",
    "A = SnpLinAlg{Float64}(x, model=ADDITIVE_MODEL, impute=false, center=false, scale=false)\n",
    "b = ones(n)\n",
    "c = A' * b\n",
    "ctrue = convert(Matrix{Float64}, A)' * b\n",
    "@test all(c .≈ ctrue)"
   ]
  },
  {
   "cell_type": "code",
   "execution_count": null,
   "metadata": {
    "collapsed": true
   },
   "outputs": [],
   "source": []
  }
 ],
 "metadata": {
  "@webio": {
   "lastCommId": null,
   "lastKernelId": null
  },
  "kernelspec": {
   "display_name": "Julia 1.6.0",
   "language": "julia",
   "name": "julia-1.6"
  },
  "language_info": {
   "file_extension": ".jl",
   "mimetype": "application/julia",
   "name": "julia",
   "version": "1.6.0"
  }
 },
 "nbformat": 4,
 "nbformat_minor": 2
}
