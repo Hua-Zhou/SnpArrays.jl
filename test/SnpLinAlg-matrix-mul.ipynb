{
 "cells": [
  {
   "cell_type": "code",
   "execution_count": 1,
   "metadata": {
    "collapsed": false,
    "scrolled": true
   },
   "outputs": [
    {
     "name": "stderr",
     "output_type": "stream",
     "text": [
      "┌ Info: Precompiling SnpArrays [4e780e97-f5bf-4111-9dc4-b70aaf691b06]\n",
      "└ @ Base loading.jl:1317\n",
      "WARNING: could not import DataFrames.DataFrame! into SnpArrays\n",
      "┌ Info: Precompiling MendelIHT [921c7187-1484-5754-b919-5d3ed9ac03c4]\n",
      "└ @ Base loading.jl:1317\n"
     ]
    }
   ],
   "source": [
    "using Revise\n",
    "using SnpArrays\n",
    "using LinearAlgebra\n",
    "using Random\n",
    "using LoopVectorization\n",
    "using MendelIHT"
   ]
  },
  {
   "cell_type": "markdown",
   "metadata": {},
   "source": [
    "## No center/scale/impute"
   ]
  },
  {
   "cell_type": "code",
   "execution_count": 24,
   "metadata": {
    "collapsed": false
   },
   "outputs": [
    {
     "name": "stdout",
     "output_type": "stream",
     "text": [
      "M = 1024, Miter = 1, Mrem = 0\n",
      "N = 1024, Niter = 1, Nrem = 0\n",
      "P = 10, Piter = 0, Prem = 10\n"
     ]
    }
   ],
   "source": [
    "# x = SnpArray(SnpArrays.datadir(\"EUR_subset.bed\"))\n",
    "m = 4098\n",
    "n = 1024\n",
    "p = 10\n",
    "x = simulate_random_snparray(undef, m, n)\n",
    "\n",
    "A = SnpLinAlg{Float64}(x, model=ADDITIVE_MODEL, impute=false, center=false, scale=false)\n",
    "B = ones(n, p)\n",
    "C = zeros(m, p)\n",
    "LinearAlgebra.mul!(C, A, B)"
   ]
  },
  {
   "cell_type": "code",
   "execution_count": 25,
   "metadata": {
    "collapsed": false
   },
   "outputs": [
    {
     "name": "stdout",
     "output_type": "stream",
     "text": [
      "all(C .≈ Ctrue) = false\n"
     ]
    },
    {
     "data": {
      "text/plain": [
       "false"
      ]
     },
     "execution_count": 25,
     "metadata": {},
     "output_type": "execute_result"
    }
   ],
   "source": [
    "Ctrue = convert(Matrix{Float64}, x, model=ADDITIVE_MODEL) * B\n",
    "@show all(C .≈ Ctrue)"
   ]
  },
  {
   "cell_type": "code",
   "execution_count": 26,
   "metadata": {
    "collapsed": false
   },
   "outputs": [
    {
     "data": {
      "text/plain": [
       "4098×10 Matrix{Float64}:\n",
       " 490.0  490.0  490.0  490.0  490.0  490.0  490.0  490.0  490.0  490.0\n",
       " 515.0  515.0  515.0  515.0  515.0  515.0  515.0  515.0  515.0  515.0\n",
       " 512.0  512.0  512.0  512.0  512.0  512.0  512.0  512.0  512.0  512.0\n",
       " 511.0  511.0  511.0  511.0  511.0  511.0  511.0  511.0  511.0  511.0\n",
       " 536.0  536.0  536.0  536.0  536.0  536.0  536.0  536.0  536.0  536.0\n",
       " 547.0  547.0  547.0  547.0  547.0  547.0  547.0  547.0  547.0  547.0\n",
       " 500.0  500.0  500.0  500.0  500.0  500.0  500.0  500.0  500.0  500.0\n",
       " 514.0  514.0  514.0  514.0  514.0  514.0  514.0  514.0  514.0  514.0\n",
       " 489.0  489.0  489.0  489.0  489.0  489.0  489.0  489.0  489.0  489.0\n",
       " 495.0  495.0  495.0  495.0  495.0  495.0  495.0  495.0  495.0  495.0\n",
       " 508.0  508.0  508.0  508.0  508.0  508.0  508.0  508.0  508.0  508.0\n",
       " 516.0  516.0  516.0  516.0  516.0  516.0  516.0  516.0  516.0  516.0\n",
       " 520.0  520.0  520.0  520.0  520.0  520.0  520.0  520.0  520.0  520.0\n",
       "   ⋮                                  ⋮                         \n",
       " 512.0  512.0  512.0  512.0  512.0  512.0  512.0  512.0  512.0  512.0\n",
       " 499.0  499.0  499.0  499.0  499.0  499.0  499.0  499.0  499.0  499.0\n",
       " 534.0  534.0  534.0  534.0  534.0  534.0  534.0  534.0  534.0  534.0\n",
       " 526.0  526.0  526.0  526.0  526.0  526.0  526.0  526.0  526.0  526.0\n",
       " 559.0  559.0  559.0  559.0  559.0  559.0  559.0  559.0  559.0  559.0\n",
       " 544.0  544.0  544.0  544.0  544.0  544.0  544.0  544.0  544.0  544.0\n",
       " 502.0  502.0  502.0  502.0  502.0  502.0  502.0  502.0  502.0  502.0\n",
       " 568.0  568.0  568.0  568.0  568.0  568.0  568.0  568.0  568.0  568.0\n",
       " 520.0  520.0  520.0  520.0  520.0  520.0  520.0  520.0  520.0  520.0\n",
       " 496.0  496.0  496.0  496.0  496.0  496.0  496.0  496.0  496.0  496.0\n",
       "   0.0    0.0    0.0    0.0    0.0    0.0    0.0    0.0    0.0    0.0\n",
       "   0.0    0.0    0.0    0.0    0.0    0.0    0.0    0.0    0.0    0.0"
      ]
     },
     "execution_count": 26,
     "metadata": {},
     "output_type": "execute_result"
    }
   ],
   "source": [
    "C"
   ]
  },
  {
   "cell_type": "code",
   "execution_count": 27,
   "metadata": {
    "collapsed": false
   },
   "outputs": [
    {
     "data": {
      "text/plain": [
       "4098×10 Matrix{Float64}:\n",
       " 490.0  490.0  490.0  490.0  490.0  490.0  490.0  490.0  490.0  490.0\n",
       " 515.0  515.0  515.0  515.0  515.0  515.0  515.0  515.0  515.0  515.0\n",
       " 512.0  512.0  512.0  512.0  512.0  512.0  512.0  512.0  512.0  512.0\n",
       " 511.0  511.0  511.0  511.0  511.0  511.0  511.0  511.0  511.0  511.0\n",
       " 536.0  536.0  536.0  536.0  536.0  536.0  536.0  536.0  536.0  536.0\n",
       " 547.0  547.0  547.0  547.0  547.0  547.0  547.0  547.0  547.0  547.0\n",
       " 500.0  500.0  500.0  500.0  500.0  500.0  500.0  500.0  500.0  500.0\n",
       " 514.0  514.0  514.0  514.0  514.0  514.0  514.0  514.0  514.0  514.0\n",
       " 489.0  489.0  489.0  489.0  489.0  489.0  489.0  489.0  489.0  489.0\n",
       " 495.0  495.0  495.0  495.0  495.0  495.0  495.0  495.0  495.0  495.0\n",
       " 508.0  508.0  508.0  508.0  508.0  508.0  508.0  508.0  508.0  508.0\n",
       " 516.0  516.0  516.0  516.0  516.0  516.0  516.0  516.0  516.0  516.0\n",
       " 520.0  520.0  520.0  520.0  520.0  520.0  520.0  520.0  520.0  520.0\n",
       "   ⋮                                  ⋮                         \n",
       " 512.0  512.0  512.0  512.0  512.0  512.0  512.0  512.0  512.0  512.0\n",
       " 499.0  499.0  499.0  499.0  499.0  499.0  499.0  499.0  499.0  499.0\n",
       " 534.0  534.0  534.0  534.0  534.0  534.0  534.0  534.0  534.0  534.0\n",
       " 526.0  526.0  526.0  526.0  526.0  526.0  526.0  526.0  526.0  526.0\n",
       " 559.0  559.0  559.0  559.0  559.0  559.0  559.0  559.0  559.0  559.0\n",
       " 544.0  544.0  544.0  544.0  544.0  544.0  544.0  544.0  544.0  544.0\n",
       " 502.0  502.0  502.0  502.0  502.0  502.0  502.0  502.0  502.0  502.0\n",
       " 568.0  568.0  568.0  568.0  568.0  568.0  568.0  568.0  568.0  568.0\n",
       " 520.0  520.0  520.0  520.0  520.0  520.0  520.0  520.0  520.0  520.0\n",
       " 496.0  496.0  496.0  496.0  496.0  496.0  496.0  496.0  496.0  496.0\n",
       " 520.0  520.0  520.0  520.0  520.0  520.0  520.0  520.0  520.0  520.0\n",
       " 512.0  512.0  512.0  512.0  512.0  512.0  512.0  512.0  512.0  512.0"
      ]
     },
     "execution_count": 27,
     "metadata": {},
     "output_type": "execute_result"
    }
   ],
   "source": [
    "Ctrue"
   ]
  },
  {
   "cell_type": "code",
   "execution_count": 22,
   "metadata": {
    "collapsed": false
   },
   "outputs": [
    {
     "name": "stdout",
     "output_type": "stream",
     "text": [
      "\u001b[91m\u001b[1mTest Failed\u001b[22m\u001b[39m at \u001b[39m\u001b[1mIn[22]:18\u001b[22m\n",
      "  Expression: all(c .≈ ctrue)\n"
     ]
    },
    {
     "ename": "LoadError",
     "evalue": "\u001b[91mThere was an error during testing\u001b[39m",
     "output_type": "error",
     "traceback": [
      "\u001b[91mThere was an error during testing\u001b[39m",
      "",
      "Stacktrace:",
      " [1] record(ts::Test.FallbackTestSet, t::Union{Test.Error, Test.Fail})",
      "   @ Test /Users/julia/buildbot/worker/package_macos64/build/usr/share/julia/stdlib/v1.6/Test/src/Test.jl:772",
      " [2] do_test(result::Test.ExecutionResult, orig_expr::Any)",
      "   @ Test /Users/julia/buildbot/worker/package_macos64/build/usr/share/julia/stdlib/v1.6/Test/src/Test.jl:555",
      " [3] top-level scope",
      "   @ In[22]:18",
      " [4] eval",
      "   @ ./boot.jl:360 [inlined]",
      " [5] include_string(mapexpr::typeof(REPL.softscope), mod::Module, code::String, filename::String)",
      "   @ Base ./loading.jl:1094"
     ]
    }
   ],
   "source": [
    "using Revise\n",
    "using SnpArrays\n",
    "using LinearAlgebra\n",
    "using Random\n",
    "using LoopVectorization\n",
    "using MendelIHT\n",
    "using Test\n",
    "\n",
    "# any n between 4097 and 4099 doesn't work!\n",
    "n = 4097\n",
    "p = 10000\n",
    "x = simulate_random_snparray(undef, n, p)\n",
    "\n",
    "A = SnpLinAlg{Float64}(x, model=ADDITIVE_MODEL, impute=false, center=false, scale=false)\n",
    "b = ones(p)\n",
    "c = A * b\n",
    "ctrue = convert(Matrix{Float64}, A) * b\n",
    "@test all(c .≈ ctrue)"
   ]
  },
  {
   "cell_type": "code",
   "execution_count": 23,
   "metadata": {
    "collapsed": false
   },
   "outputs": [
    {
     "data": {
      "text/plain": [
       "4097-element Vector{Float64}:\n",
       " 4959.0\n",
       " 5081.0\n",
       " 4998.0\n",
       " 5020.0\n",
       " 5058.0\n",
       " 5016.0\n",
       " 5091.0\n",
       " 4993.0\n",
       " 5041.0\n",
       " 5092.0\n",
       " 5026.0\n",
       " 5069.0\n",
       " 4975.0\n",
       "    ⋮\n",
       " 5030.0\n",
       " 4954.0\n",
       " 5019.0\n",
       " 5075.0\n",
       " 5091.0\n",
       " 5019.0\n",
       " 5026.0\n",
       " 5033.0\n",
       " 5002.0\n",
       " 5054.0\n",
       " 5063.0\n",
       "    0.0"
      ]
     },
     "execution_count": 23,
     "metadata": {},
     "output_type": "execute_result"
    }
   ],
   "source": [
    "c"
   ]
  },
  {
   "cell_type": "code",
   "execution_count": null,
   "metadata": {
    "collapsed": true
   },
   "outputs": [],
   "source": []
  }
 ],
 "metadata": {
  "@webio": {
   "lastCommId": null,
   "lastKernelId": null
  },
  "kernelspec": {
   "display_name": "Julia 1.6.0",
   "language": "julia",
   "name": "julia-1.6"
  },
  "language_info": {
   "file_extension": ".jl",
   "mimetype": "application/julia",
   "name": "julia",
   "version": "1.6.0"
  }
 },
 "nbformat": 4,
 "nbformat_minor": 2
}
