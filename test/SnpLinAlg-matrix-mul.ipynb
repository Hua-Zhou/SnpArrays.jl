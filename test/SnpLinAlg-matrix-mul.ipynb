{
 "cells": [
  {
   "cell_type": "code",
   "execution_count": 1,
   "metadata": {
    "collapsed": false,
    "scrolled": true
   },
   "outputs": [
    {
     "name": "stderr",
     "output_type": "stream",
     "text": [
      "┌ Info: Precompiling SnpArrays [4e780e97-f5bf-4111-9dc4-b70aaf691b06]\n",
      "└ @ Base loading.jl:1317\n",
      "WARNING: could not import DataFrames.DataFrame! into SnpArrays\n",
      "┌ Info: Precompiling MendelIHT [921c7187-1484-5754-b919-5d3ed9ac03c4]\n",
      "└ @ Base loading.jl:1317\n"
     ]
    }
   ],
   "source": [
    "using Revise\n",
    "using SnpArrays\n",
    "using LinearAlgebra\n",
    "using Random\n",
    "using LoopVectorization\n",
    "using MendelIHT\n",
    "using BenchmarkTools"
   ]
  },
  {
   "cell_type": "markdown",
   "metadata": {},
   "source": [
    "# $C = A^tB$ correctness\n",
    "\n",
    "If we want to center/scale the SnpArray, we have\n",
    "$$\n",
    "C_{ij} = \\sum_{k} \\left(\\frac{A_{ik} - \\mu_i}{\\sigma_i}\\right)B_{kj} = \\sum_{k} \\frac{A_{ik}B_{kj} - \\mu_iB_{kj}}{\\sigma_i}\n",
    "$$\n",
    "+ $C = n \\times p$\n",
    "+ $A = m \\times n$\n",
    "+ $B = m \\times p$\n",
    "+ SnpArray model = Additive, dominant, recessive"
   ]
  },
  {
   "cell_type": "code",
   "execution_count": 2,
   "metadata": {
    "collapsed": false
   },
   "outputs": [
    {
     "name": "stdout",
     "output_type": "stream",
     "text": [
      "all(isapprox(C, Ctrue, atol = 1.0e-7)) = true\n"
     ]
    },
    {
     "data": {
      "text/plain": [
       "true"
      ]
     },
     "execution_count": 2,
     "metadata": {},
     "output_type": "execute_result"
    }
   ],
   "source": [
    "model = ADDITIVE_MODEL\n",
    "center = true\n",
    "scale = true\n",
    "impute = true\n",
    "m = 4098\n",
    "n = 1025\n",
    "p = 1025\n",
    "x = simulate_random_snparray(undef, m, n)\n",
    "if impute\n",
    "    for j in 1:n, i in 1:m\n",
    "        rand() < 0.01 && (x[i, j] = 0x01) # create ~1% missings\n",
    "    end\n",
    "end\n",
    "\n",
    "A = SnpLinAlg{Float64}(x, model=model, impute=impute, center=center, scale=scale)\n",
    "B = rand(m, p)\n",
    "C = zeros(n, p)\n",
    "LinearAlgebra.mul!(C, Transpose(A), B)\n",
    "Ctrue = convert(Matrix{Float64}, x, impute=impute, model=model, center=center, scale=scale)' * B\n",
    "@show all(isapprox(C, Ctrue, atol=1e-7))"
   ]
  },
  {
   "cell_type": "markdown",
   "metadata": {},
   "source": [
    "## Speed: SnpLinAlg-(matrix) vs multiple SnpLinAlg-vector"
   ]
  },
  {
   "cell_type": "code",
   "execution_count": 3,
   "metadata": {
    "collapsed": false
   },
   "outputs": [
    {
     "data": {
      "text/plain": [
       "adhoc_mul! (generic function with 1 method)"
      ]
     },
     "execution_count": 3,
     "metadata": {},
     "output_type": "execute_result"
    }
   ],
   "source": [
    "# C = A'B by multiple C[:, i] = A'B[:, i]\n",
    "function adhoc_mul!(\n",
    "    out::AbstractMatrix, \n",
    "    st::Union{Transpose{T, SnpLinAlg{T}}, Adjoint{T, SnpLinAlg{T}}},\n",
    "    v::AbstractMatrix) where T\n",
    "    for i in 1:size(v, 2)\n",
    "        outi = @view(out[:, i])\n",
    "        vi = @view(v[:, i])\n",
    "        SnpArrays.mul!(outi, st, vi)\n",
    "    end\n",
    "end"
   ]
  },
  {
   "cell_type": "markdown",
   "metadata": {},
   "source": [
    "### r = 2"
   ]
  },
  {
   "cell_type": "code",
   "execution_count": 13,
   "metadata": {
    "collapsed": false
   },
   "outputs": [
    {
     "data": {
      "text/plain": [
       "true"
      ]
     },
     "execution_count": 13,
     "metadata": {},
     "output_type": "execute_result"
    }
   ],
   "source": [
    "n = 5340   # number of samples\n",
    "p = 24523  # number of SNPs\n",
    "r = 2      # number of traits\n",
    "x = simulate_random_snparray(undef, n, p)\n",
    "\n",
    "# test correctness\n",
    "A = SnpLinAlg{Float64}(x, model=ADDITIVE_MODEL, impute=true, center=true, scale=true)\n",
    "B = rand(n, r)\n",
    "C = zeros(p, r)\n",
    "Ctest = zeros(p, r)\n",
    "LinearAlgebra.mul!(C, Transpose(A), B)\n",
    "adhoc_mul!(Ctest, Transpose(A), B)\n",
    "all(isapprox(C, Ctest, atol=1e-7))"
   ]
  },
  {
   "cell_type": "code",
   "execution_count": 14,
   "metadata": {
    "collapsed": false
   },
   "outputs": [
    {
     "data": {
      "text/plain": [
       "BenchmarkTools.Trial: \n",
       "  memory estimate:  176 bytes\n",
       "  allocs estimate:  1\n",
       "  --------------\n",
       "  minimum time:     138.934 ms (0.00% GC)\n",
       "  median time:      143.492 ms (0.00% GC)\n",
       "  mean time:        143.785 ms (0.00% GC)\n",
       "  maximum time:     154.167 ms (0.00% GC)\n",
       "  --------------\n",
       "  samples:          35\n",
       "  evals/sample:     1"
      ]
     },
     "execution_count": 14,
     "metadata": {},
     "output_type": "execute_result"
    }
   ],
   "source": [
    "@benchmark LinearAlgebra.mul!($Ctest, $(A'), $B) # SnpLinAlg-matrix"
   ]
  },
  {
   "cell_type": "code",
   "execution_count": 5,
   "metadata": {
    "collapsed": false
   },
   "outputs": [
    {
     "data": {
      "text/plain": [
       "BenchmarkTools.Trial: \n",
       "  memory estimate:  352 bytes\n",
       "  allocs estimate:  2\n",
       "  --------------\n",
       "  minimum time:     97.110 ms (0.00% GC)\n",
       "  median time:      100.669 ms (0.00% GC)\n",
       "  mean time:        101.024 ms (0.00% GC)\n",
       "  maximum time:     110.693 ms (0.00% GC)\n",
       "  --------------\n",
       "  samples:          50\n",
       "  evals/sample:     1"
      ]
     },
     "execution_count": 5,
     "metadata": {},
     "output_type": "execute_result"
    }
   ],
   "source": [
    "@benchmark adhoc_mul!($Ctest, $(A'), $B) # multiple SnpLinAlg-vector"
   ]
  },
  {
   "cell_type": "code",
   "execution_count": 6,
   "metadata": {
    "collapsed": false
   },
   "outputs": [
    {
     "data": {
      "text/plain": [
       "BenchmarkTools.Trial: \n",
       "  memory estimate:  0 bytes\n",
       "  allocs estimate:  0\n",
       "  --------------\n",
       "  minimum time:     55.995 ms (0.00% GC)\n",
       "  median time:      57.915 ms (0.00% GC)\n",
       "  mean time:        58.614 ms (0.00% GC)\n",
       "  maximum time:     70.071 ms (0.00% GC)\n",
       "  --------------\n",
       "  samples:          86\n",
       "  evals/sample:     1"
      ]
     },
     "execution_count": 6,
     "metadata": {},
     "output_type": "execute_result"
    }
   ],
   "source": [
    "Afloat = convert(Matrix{Float64}, A)\n",
    "BLAS.set_num_threads(8)\n",
    "@benchmark LinearAlgebra.mul!($C, $(Afloat'), $B) # BLAS with 8 threads"
   ]
  },
  {
   "cell_type": "code",
   "execution_count": 7,
   "metadata": {
    "collapsed": false
   },
   "outputs": [
    {
     "data": {
      "text/plain": [
       "BenchmarkTools.Trial: \n",
       "  memory estimate:  0 bytes\n",
       "  allocs estimate:  0\n",
       "  --------------\n",
       "  minimum time:     172.172 ms (0.00% GC)\n",
       "  median time:      175.184 ms (0.00% GC)\n",
       "  mean time:        175.647 ms (0.00% GC)\n",
       "  maximum time:     184.089 ms (0.00% GC)\n",
       "  --------------\n",
       "  samples:          29\n",
       "  evals/sample:     1"
      ]
     },
     "execution_count": 7,
     "metadata": {},
     "output_type": "execute_result"
    }
   ],
   "source": [
    "BLAS.set_num_threads(1)\n",
    "@benchmark LinearAlgebra.mul!($C, $(Afloat'), $B) # BLAS with 1 threads"
   ]
  },
  {
   "cell_type": "markdown",
   "metadata": {},
   "source": [
    "### r = 5"
   ]
  },
  {
   "cell_type": "code",
   "execution_count": 8,
   "metadata": {
    "collapsed": false
   },
   "outputs": [
    {
     "data": {
      "text/plain": [
       "true"
      ]
     },
     "execution_count": 8,
     "metadata": {},
     "output_type": "execute_result"
    }
   ],
   "source": [
    "n = 5340   # number of samples\n",
    "p = 24523  # number of SNPs\n",
    "r = 5      # number of traits\n",
    "x = simulate_random_snparray(undef, n, p)\n",
    "\n",
    "# test correctness\n",
    "A = SnpLinAlg{Float64}(x, model=ADDITIVE_MODEL, impute=false, center=true, scale=true)\n",
    "B = rand(n, r)\n",
    "C = zeros(p, r)\n",
    "Ctest = zeros(p, r)\n",
    "LinearAlgebra.mul!(C, Transpose(A), B)\n",
    "adhoc_mul!(Ctest, Transpose(A), B)\n",
    "all(isapprox(C, Ctest, atol=1e-7))"
   ]
  },
  {
   "cell_type": "code",
   "execution_count": 9,
   "metadata": {
    "collapsed": false
   },
   "outputs": [
    {
     "data": {
      "text/plain": [
       "BenchmarkTools.Trial: \n",
       "  memory estimate:  176 bytes\n",
       "  allocs estimate:  1\n",
       "  --------------\n",
       "  minimum time:     207.342 ms (0.00% GC)\n",
       "  median time:      212.986 ms (0.00% GC)\n",
       "  mean time:        214.379 ms (0.00% GC)\n",
       "  maximum time:     241.874 ms (0.00% GC)\n",
       "  --------------\n",
       "  samples:          24\n",
       "  evals/sample:     1"
      ]
     },
     "execution_count": 9,
     "metadata": {},
     "output_type": "execute_result"
    }
   ],
   "source": [
    "@benchmark LinearAlgebra.mul!($C, $(A'), $B) # SnpLinAlg-matrix"
   ]
  },
  {
   "cell_type": "code",
   "execution_count": 10,
   "metadata": {
    "collapsed": false
   },
   "outputs": [
    {
     "data": {
      "text/plain": [
       "BenchmarkTools.Trial: \n",
       "  memory estimate:  880 bytes\n",
       "  allocs estimate:  5\n",
       "  --------------\n",
       "  minimum time:     395.698 ms (0.00% GC)\n",
       "  median time:      406.908 ms (0.00% GC)\n",
       "  mean time:        406.792 ms (0.00% GC)\n",
       "  maximum time:     416.499 ms (0.00% GC)\n",
       "  --------------\n",
       "  samples:          13\n",
       "  evals/sample:     1"
      ]
     },
     "execution_count": 10,
     "metadata": {},
     "output_type": "execute_result"
    }
   ],
   "source": [
    "@benchmark adhoc_mul!($Ctest, $(A'), $B) # multiple SnpLinAlg-vector"
   ]
  },
  {
   "cell_type": "code",
   "execution_count": 11,
   "metadata": {
    "collapsed": false
   },
   "outputs": [
    {
     "data": {
      "text/plain": [
       "BenchmarkTools.Trial: \n",
       "  memory estimate:  0 bytes\n",
       "  allocs estimate:  0\n",
       "  --------------\n",
       "  minimum time:     58.803 ms (0.00% GC)\n",
       "  median time:      61.626 ms (0.00% GC)\n",
       "  mean time:        63.454 ms (0.00% GC)\n",
       "  maximum time:     79.669 ms (0.00% GC)\n",
       "  --------------\n",
       "  samples:          79\n",
       "  evals/sample:     1"
      ]
     },
     "execution_count": 11,
     "metadata": {},
     "output_type": "execute_result"
    }
   ],
   "source": [
    "Afloat = convert(Matrix{Float64}, A)\n",
    "BLAS.set_num_threads(8)\n",
    "@benchmark LinearAlgebra.mul!($C, $(Afloat'), $B) # BLAS with 8 threads"
   ]
  },
  {
   "cell_type": "code",
   "execution_count": 12,
   "metadata": {
    "collapsed": false
   },
   "outputs": [
    {
     "data": {
      "text/plain": [
       "BenchmarkTools.Trial: \n",
       "  memory estimate:  0 bytes\n",
       "  allocs estimate:  0\n",
       "  --------------\n",
       "  minimum time:     193.034 ms (0.00% GC)\n",
       "  median time:      196.760 ms (0.00% GC)\n",
       "  mean time:        198.252 ms (0.00% GC)\n",
       "  maximum time:     209.635 ms (0.00% GC)\n",
       "  --------------\n",
       "  samples:          26\n",
       "  evals/sample:     1"
      ]
     },
     "execution_count": 12,
     "metadata": {},
     "output_type": "execute_result"
    }
   ],
   "source": [
    "BLAS.set_num_threads(1)\n",
    "@benchmark LinearAlgebra.mul!($C, $(Afloat'), $B) # BLAS with 1 threads"
   ]
  },
  {
   "cell_type": "markdown",
   "metadata": {},
   "source": [
    "# $C = AB$ correctness\n",
    "\n",
    "If we want to center/scale the SnpArray, we have\n",
    "$$\n",
    "C_{ij} = \\sum_{k} \\left(\\frac{A_{ik} - \\mu_k}{\\sigma_k}\\right)B_{kj} = \\sum_{k} \\frac{A_{ik}B_{kj} - \\mu_kB_{kj}}{\\sigma_k}\n",
    "$$\n",
    "+ $C = m \\times p$\n",
    "+ $A = m \\times n$\n",
    "+ $B = n \\times p$\n",
    "+ SnpArray model = Additive, dominant, recessive"
   ]
  },
  {
   "cell_type": "code",
   "execution_count": 40,
   "metadata": {
    "collapsed": false
   },
   "outputs": [
    {
     "name": "stdout",
     "output_type": "stream",
     "text": [
      "all(C .≈ Ctrue) = true\n"
     ]
    },
    {
     "data": {
      "text/plain": [
       "true"
      ]
     },
     "execution_count": 40,
     "metadata": {},
     "output_type": "execute_result"
    }
   ],
   "source": [
    "model = ADDITIVE_MODEL\n",
    "center = true\n",
    "scale = true\n",
    "impute = true\n",
    "m = 4098\n",
    "n = 1025\n",
    "p = 1025\n",
    "x = simulate_random_snparray(undef, m, n)\n",
    "if impute\n",
    "    for j in 1:n, i in 1:m\n",
    "        rand() < 0.01 && (x[i, j] = 0x01) # create ~1% missings\n",
    "    end\n",
    "end\n",
    "\n",
    "A = SnpLinAlg{Float64}(x, model=model, impute=impute, center=center, scale=scale)\n",
    "B = ones(n, p)\n",
    "C = zeros(m, p)\n",
    "LinearAlgebra.mul!(C, A, B)\n",
    "\n",
    "Ctrue = convert(Matrix{Float64}, x, impute=impute, model=model, center=center, scale=scale) * B\n",
    "@show all(C .≈ Ctrue)"
   ]
  },
  {
   "cell_type": "markdown",
   "metadata": {},
   "source": [
    "## Speed: SnpLinAlg-(matrix) vs multiple SnpLinAlg-vector"
   ]
  },
  {
   "cell_type": "code",
   "execution_count": 3,
   "metadata": {
    "collapsed": false
   },
   "outputs": [
    {
     "data": {
      "text/plain": [
       "adhoc_mul! (generic function with 1 method)"
      ]
     },
     "execution_count": 3,
     "metadata": {},
     "output_type": "execute_result"
    }
   ],
   "source": [
    "# C = AB by multiple C[:, i] = AB[:, i]\n",
    "function adhoc_mul!(\n",
    "    out::AbstractMatrix, \n",
    "    st::AbstractSnpLinAlg,\n",
    "    v::AbstractMatrix)\n",
    "    for i in 1:size(v, 2)\n",
    "        outi = @view(out[:, i])\n",
    "        vi = @view(v[:, i])\n",
    "        SnpArrays.mul!(outi, st, vi)\n",
    "    end\n",
    "end"
   ]
  },
  {
   "cell_type": "markdown",
   "metadata": {},
   "source": [
    "### r = 2"
   ]
  },
  {
   "cell_type": "code",
   "execution_count": 41,
   "metadata": {
    "collapsed": false
   },
   "outputs": [
    {
     "data": {
      "text/plain": [
       "true"
      ]
     },
     "execution_count": 41,
     "metadata": {},
     "output_type": "execute_result"
    }
   ],
   "source": [
    "n = 5340   # number of samples\n",
    "p = 24523  # number of SNPs\n",
    "r = 2      # number of traits\n",
    "x = simulate_random_snparray(undef, n, p)\n",
    "\n",
    "# test correctness\n",
    "A = SnpLinAlg{Float64}(x, model=ADDITIVE_MODEL, impute=true, center=true, scale=true)\n",
    "B = ones(p, r)\n",
    "C = zeros(n, r)\n",
    "Ctest = zeros(n, r)\n",
    "LinearAlgebra.mul!(C, A, B)\n",
    "adhoc_mul!(Ctest, A, B)\n",
    "all(Ctest .≈ C)"
   ]
  },
  {
   "cell_type": "code",
   "execution_count": 107,
   "metadata": {
    "collapsed": false
   },
   "outputs": [
    {
     "data": {
      "text/plain": [
       "BenchmarkTools.Trial: \n",
       "  memory estimate:  128 bytes\n",
       "  allocs estimate:  1\n",
       "  --------------\n",
       "  minimum time:     79.696 ms (0.00% GC)\n",
       "  median time:      82.416 ms (0.00% GC)\n",
       "  mean time:        83.003 ms (0.00% GC)\n",
       "  maximum time:     96.007 ms (0.00% GC)\n",
       "  --------------\n",
       "  samples:          61\n",
       "  evals/sample:     1"
      ]
     },
     "execution_count": 107,
     "metadata": {},
     "output_type": "execute_result"
    }
   ],
   "source": [
    "@benchmark LinearAlgebra.mul!($C, $A, $B) # SnpLinAlg-matrix"
   ]
  },
  {
   "cell_type": "code",
   "execution_count": 109,
   "metadata": {
    "collapsed": false
   },
   "outputs": [
    {
     "data": {
      "text/plain": [
       "BenchmarkTools.Trial: \n",
       "  memory estimate:  192 bytes\n",
       "  allocs estimate:  2\n",
       "  --------------\n",
       "  minimum time:     114.517 ms (0.00% GC)\n",
       "  median time:      122.829 ms (0.00% GC)\n",
       "  mean time:        122.406 ms (0.00% GC)\n",
       "  maximum time:     126.932 ms (0.00% GC)\n",
       "  --------------\n",
       "  samples:          41\n",
       "  evals/sample:     1"
      ]
     },
     "execution_count": 109,
     "metadata": {},
     "output_type": "execute_result"
    }
   ],
   "source": [
    "@benchmark adhoc_mul!($Ctest, $A, $B) # multiple SnpLinAlg-vector"
   ]
  },
  {
   "cell_type": "code",
   "execution_count": 31,
   "metadata": {
    "collapsed": false
   },
   "outputs": [
    {
     "data": {
      "text/plain": [
       "BenchmarkTools.Trial: \n",
       "  memory estimate:  0 bytes\n",
       "  allocs estimate:  0\n",
       "  --------------\n",
       "  minimum time:     45.535 ms (0.00% GC)\n",
       "  median time:      46.517 ms (0.00% GC)\n",
       "  mean time:        46.781 ms (0.00% GC)\n",
       "  maximum time:     53.563 ms (0.00% GC)\n",
       "  --------------\n",
       "  samples:          107\n",
       "  evals/sample:     1"
      ]
     },
     "execution_count": 31,
     "metadata": {},
     "output_type": "execute_result"
    }
   ],
   "source": [
    "Afloat = convert(Matrix{Float64}, A)\n",
    "BLAS.set_num_threads(8)\n",
    "@benchmark LinearAlgebra.mul!($C, $Afloat, $B) # BLAS with 8 threads"
   ]
  },
  {
   "cell_type": "code",
   "execution_count": 32,
   "metadata": {
    "collapsed": false
   },
   "outputs": [
    {
     "data": {
      "text/plain": [
       "BenchmarkTools.Trial: \n",
       "  memory estimate:  0 bytes\n",
       "  allocs estimate:  0\n",
       "  --------------\n",
       "  minimum time:     132.407 ms (0.00% GC)\n",
       "  median time:      136.632 ms (0.00% GC)\n",
       "  mean time:        138.222 ms (0.00% GC)\n",
       "  maximum time:     153.705 ms (0.00% GC)\n",
       "  --------------\n",
       "  samples:          37\n",
       "  evals/sample:     1"
      ]
     },
     "execution_count": 32,
     "metadata": {},
     "output_type": "execute_result"
    }
   ],
   "source": [
    "BLAS.set_num_threads(1)\n",
    "@benchmark LinearAlgebra.mul!($C, $Afloat, $B) # BLAS with 1 threads"
   ]
  },
  {
   "cell_type": "markdown",
   "metadata": {},
   "source": [
    "### r = 5"
   ]
  },
  {
   "cell_type": "code",
   "execution_count": 34,
   "metadata": {
    "collapsed": false
   },
   "outputs": [
    {
     "data": {
      "text/plain": [
       "true"
      ]
     },
     "execution_count": 34,
     "metadata": {},
     "output_type": "execute_result"
    }
   ],
   "source": [
    "n = 5340\n",
    "p = 24523\n",
    "r = 5\n",
    "x = simulate_random_snparray(undef, n, p)\n",
    "\n",
    "# test correctness\n",
    "A = SnpLinAlg{Float64}(x, model=ADDITIVE_MODEL, impute=true, center=true, scale=true)\n",
    "B = ones(p, r)\n",
    "C = zeros(n, r)\n",
    "Ctest = zeros(n, r)\n",
    "LinearAlgebra.mul!(C, A, B)\n",
    "adhoc_mul!(Ctest, A, B)\n",
    "all(Ctest .≈ C)"
   ]
  },
  {
   "cell_type": "code",
   "execution_count": 35,
   "metadata": {
    "collapsed": false
   },
   "outputs": [
    {
     "data": {
      "text/plain": [
       "BenchmarkTools.Trial: \n",
       "  memory estimate:  128 bytes\n",
       "  allocs estimate:  1\n",
       "  --------------\n",
       "  minimum time:     132.495 ms (0.00% GC)\n",
       "  median time:      135.236 ms (0.00% GC)\n",
       "  mean time:        135.548 ms (0.00% GC)\n",
       "  maximum time:     147.035 ms (0.00% GC)\n",
       "  --------------\n",
       "  samples:          37\n",
       "  evals/sample:     1"
      ]
     },
     "execution_count": 35,
     "metadata": {},
     "output_type": "execute_result"
    }
   ],
   "source": [
    "@benchmark LinearAlgebra.mul!($C, $A, $B) # SnpLinAlg-matrix"
   ]
  },
  {
   "cell_type": "code",
   "execution_count": 36,
   "metadata": {
    "collapsed": false
   },
   "outputs": [
    {
     "data": {
      "text/plain": [
       "BenchmarkTools.Trial: \n",
       "  memory estimate:  480 bytes\n",
       "  allocs estimate:  5\n",
       "  --------------\n",
       "  minimum time:     230.470 ms (0.00% GC)\n",
       "  median time:      236.705 ms (0.00% GC)\n",
       "  mean time:        295.087 ms (0.00% GC)\n",
       "  maximum time:     699.488 ms (0.00% GC)\n",
       "  --------------\n",
       "  samples:          19\n",
       "  evals/sample:     1"
      ]
     },
     "execution_count": 36,
     "metadata": {},
     "output_type": "execute_result"
    }
   ],
   "source": [
    "@benchmark adhoc_mul!($Ctest, $A, $B)"
   ]
  },
  {
   "cell_type": "code",
   "execution_count": 37,
   "metadata": {
    "collapsed": false
   },
   "outputs": [
    {
     "data": {
      "text/plain": [
       "BenchmarkTools.Trial: \n",
       "  memory estimate:  0 bytes\n",
       "  allocs estimate:  0\n",
       "  --------------\n",
       "  minimum time:     45.511 ms (0.00% GC)\n",
       "  median time:      49.890 ms (0.00% GC)\n",
       "  mean time:        51.769 ms (0.00% GC)\n",
       "  maximum time:     68.548 ms (0.00% GC)\n",
       "  --------------\n",
       "  samples:          97\n",
       "  evals/sample:     1"
      ]
     },
     "execution_count": 37,
     "metadata": {},
     "output_type": "execute_result"
    }
   ],
   "source": [
    "Afloat = convert(Matrix{Float64}, A)\n",
    "BLAS.set_num_threads(8)\n",
    "@benchmark LinearAlgebra.mul!($C, $Afloat, $B) # BLAS with 8 threads"
   ]
  },
  {
   "cell_type": "code",
   "execution_count": 38,
   "metadata": {
    "collapsed": false
   },
   "outputs": [
    {
     "data": {
      "text/plain": [
       "BenchmarkTools.Trial: \n",
       "  memory estimate:  0 bytes\n",
       "  allocs estimate:  0\n",
       "  --------------\n",
       "  minimum time:     148.367 ms (0.00% GC)\n",
       "  median time:      154.699 ms (0.00% GC)\n",
       "  mean time:        155.224 ms (0.00% GC)\n",
       "  maximum time:     166.649 ms (0.00% GC)\n",
       "  --------------\n",
       "  samples:          33\n",
       "  evals/sample:     1"
      ]
     },
     "execution_count": 38,
     "metadata": {},
     "output_type": "execute_result"
    }
   ],
   "source": [
    "BLAS.set_num_threads(1)\n",
    "@benchmark LinearAlgebra.mul!($C, $Afloat, $B) # BLAS with 1 threads"
   ]
  },
  {
   "cell_type": "markdown",
   "metadata": {},
   "source": [
    "## AX on-the-fly centering vs centering at the end"
   ]
  },
  {
   "cell_type": "code",
   "execution_count": 10,
   "metadata": {
    "collapsed": false
   },
   "outputs": [
    {
     "data": {
      "text/plain": [
       "true"
      ]
     },
     "execution_count": 10,
     "metadata": {},
     "output_type": "execute_result"
    }
   ],
   "source": [
    "n = 5340   # number of samples\n",
    "p = 24523  # number of SNPs\n",
    "r = 2      # number of traits\n",
    "x = simulate_random_snparray(undef, n, p)\n",
    "\n",
    "# test correctness\n",
    "A = SnpLinAlg{Float64}(x, model=ADDITIVE_MODEL, impute=true, center=true, scale=true)\n",
    "B = rand(p, r)\n",
    "C = zeros(n, r)\n",
    "LinearAlgebra.mul!(C, A, B)\n",
    "Ctrue = convert(Matrix{Float64}, x, impute=true, center=true, scale=true) * B\n",
    "all(Ctrue .≈ C)"
   ]
  },
  {
   "cell_type": "code",
   "execution_count": 11,
   "metadata": {
    "collapsed": false
   },
   "outputs": [
    {
     "data": {
      "text/plain": [
       "BenchmarkTools.Trial: \n",
       "  memory estimate:  128 bytes\n",
       "  allocs estimate:  1\n",
       "  --------------\n",
       "  minimum time:     108.810 ms (0.00% GC)\n",
       "  median time:      112.315 ms (0.00% GC)\n",
       "  mean time:        112.493 ms (0.00% GC)\n",
       "  maximum time:     127.028 ms (0.00% GC)\n",
       "  --------------\n",
       "  samples:          267\n",
       "  evals/sample:     1"
      ]
     },
     "execution_count": 11,
     "metadata": {},
     "output_type": "execute_result"
    }
   ],
   "source": [
    "# on the fly\n",
    "@benchmark LinearAlgebra.mul!($C, $A, $B) seconds=30"
   ]
  },
  {
   "cell_type": "code",
   "execution_count": 9,
   "metadata": {
    "collapsed": false
   },
   "outputs": [
    {
     "data": {
      "text/plain": [
       "BenchmarkTools.Trial: \n",
       "  memory estimate:  128 bytes\n",
       "  allocs estimate:  1\n",
       "  --------------\n",
       "  minimum time:     121.378 ms (0.00% GC)\n",
       "  median time:      125.050 ms (0.00% GC)\n",
       "  mean time:        125.445 ms (0.00% GC)\n",
       "  maximum time:     138.678 ms (0.00% GC)\n",
       "  --------------\n",
       "  samples:          240\n",
       "  evals/sample:     1"
      ]
     },
     "execution_count": 9,
     "metadata": {},
     "output_type": "execute_result"
    }
   ],
   "source": [
    "# centering at the end\n",
    "@benchmark LinearAlgebra.mul!($C, $A, $B) seconds=30"
   ]
  },
  {
   "cell_type": "markdown",
   "metadata": {},
   "source": [
    "## AtX on-the-fly centering vs centering at the end"
   ]
  },
  {
   "cell_type": "code",
   "execution_count": 5,
   "metadata": {
    "collapsed": false
   },
   "outputs": [
    {
     "data": {
      "text/plain": [
       "true"
      ]
     },
     "execution_count": 5,
     "metadata": {},
     "output_type": "execute_result"
    }
   ],
   "source": [
    "n = 5340   # number of samples\n",
    "p = 24523  # number of SNPs\n",
    "r = 2      # number of traits\n",
    "x = simulate_random_snparray(undef, n, p)\n",
    "\n",
    "# test correctness\n",
    "A = SnpLinAlg{Float64}(x, model=ADDITIVE_MODEL, impute=true, center=true, scale=true)\n",
    "B = rand(n, r)\n",
    "C = zeros(p, r)\n",
    "LinearAlgebra.mul!(C, Transpose(A), B)\n",
    "Ctrue = convert(Matrix{Float64}, x, model=ADDITIVE_MODEL, impute=true, center=true, scale=true)' * B\n",
    "all(isapprox(C, Ctrue, atol=1e-7))"
   ]
  },
  {
   "cell_type": "code",
   "execution_count": 4,
   "metadata": {
    "collapsed": false
   },
   "outputs": [
    {
     "data": {
      "text/plain": [
       "BenchmarkTools.Trial: \n",
       "  memory estimate:  272 bytes\n",
       "  allocs estimate:  1\n",
       "  --------------\n",
       "  minimum time:     133.776 ms (0.00% GC)\n",
       "  median time:      138.357 ms (0.00% GC)\n",
       "  mean time:        138.073 ms (0.00% GC)\n",
       "  maximum time:     145.178 ms (0.00% GC)\n",
       "  --------------\n",
       "  samples:          37\n",
       "  evals/sample:     1"
      ]
     },
     "execution_count": 4,
     "metadata": {},
     "output_type": "execute_result"
    }
   ],
   "source": [
    "# on the fly\n",
    "@benchmark LinearAlgebra.mul!($C, $(Transpose(A)), $B)"
   ]
  },
  {
   "cell_type": "code",
   "execution_count": 6,
   "metadata": {
    "collapsed": false
   },
   "outputs": [
    {
     "data": {
      "text/plain": [
       "BenchmarkTools.Trial: \n",
       "  memory estimate:  272 bytes\n",
       "  allocs estimate:  1\n",
       "  --------------\n",
       "  minimum time:     157.478 ms (0.00% GC)\n",
       "  median time:      162.243 ms (0.00% GC)\n",
       "  mean time:        162.615 ms (0.00% GC)\n",
       "  maximum time:     171.967 ms (0.00% GC)\n",
       "  --------------\n",
       "  samples:          31\n",
       "  evals/sample:     1"
      ]
     },
     "execution_count": 6,
     "metadata": {},
     "output_type": "execute_result"
    }
   ],
   "source": [
    "# centering at the end\n",
    "@benchmark LinearAlgebra.mul!($C, $(Transpose(A)), $B)"
   ]
  },
  {
   "cell_type": "markdown",
   "metadata": {},
   "source": [
    "## $Ax$ bug"
   ]
  },
  {
   "cell_type": "code",
   "execution_count": 84,
   "metadata": {
    "collapsed": false
   },
   "outputs": [
    {
     "name": "stdout",
     "output_type": "stream",
     "text": [
      "rows_filled = 4099\n",
      "M = 1024, Miter = 1, Mrem = 3\n",
      "N = 1000, Niter = 0, Nrem = 1000\n"
     ]
    },
    {
     "data": {
      "text/plain": [
       "\u001b[32m\u001b[1mTest Passed\u001b[22m\u001b[39m"
      ]
     },
     "execution_count": 84,
     "metadata": {},
     "output_type": "execute_result"
    }
   ],
   "source": [
    "# before fixing issue 90, any n between 4097 and 4099 doesn't work!\n",
    "n = 4099\n",
    "p = 1000\n",
    "x = simulate_random_snparray(undef, n, p, min_ma=0)\n",
    "\n",
    "A = SnpLinAlg{Float64}(x, model=ADDITIVE_MODEL, impute=false, center=false, scale=false)\n",
    "b = ones(p)\n",
    "c = A * b\n",
    "ctrue = convert(Matrix{Float64}, A) * b\n",
    "@test all(c .≈ ctrue)"
   ]
  },
  {
   "cell_type": "code",
   "execution_count": 17,
   "metadata": {
    "collapsed": false
   },
   "outputs": [
    {
     "data": {
      "text/plain": [
       "\u001b[32m\u001b[1mTest Passed\u001b[22m\u001b[39m"
      ]
     },
     "execution_count": 17,
     "metadata": {},
     "output_type": "execute_result"
    }
   ],
   "source": [
    "using Revise\n",
    "using SnpArrays\n",
    "using LinearAlgebra\n",
    "using Random\n",
    "using LoopVectorization\n",
    "using MendelIHT\n",
    "using Test\n",
    "using BenchmarkTools\n",
    "\n",
    "# after fixing issue 90, if n is 1024, 2048 or 3072, still won't work!\n",
    "n = 4097\n",
    "p = 2048\n",
    "x = simulate_random_snparray(undef, n, p) #defined in my package `MendelIHT.jl`\n",
    "\n",
    "x[1, 2048] = 0x01\n",
    "x[2048, 1] = 0x01\n",
    "\n",
    "A = SnpLinAlg{Float64}(x, model=ADDITIVE_MODEL, impute=true, center=false, scale=false)\n",
    "b = ones(p)\n",
    "c = A * b\n",
    "ctrue = convert(Matrix{Float64}, x, impute=true, center=false, scale=false) * b\n",
    "@test all(c .≈ ctrue)"
   ]
  },
  {
   "cell_type": "markdown",
   "metadata": {
    "collapsed": true
   },
   "source": [
    "## $A^tx$ bug"
   ]
  },
  {
   "cell_type": "code",
   "execution_count": 61,
   "metadata": {
    "collapsed": false
   },
   "outputs": [
    {
     "name": "stdout",
     "output_type": "stream",
     "text": [
      "rows_filled = 8193\n",
      "M = 2048, Miter = 1, Mrem = 1\n",
      "N = 1000, Niter = 0, Nrem = 1000\n"
     ]
    },
    {
     "data": {
      "text/plain": [
       "\u001b[32m\u001b[1mTest Passed\u001b[22m\u001b[39m"
      ]
     },
     "execution_count": 61,
     "metadata": {},
     "output_type": "execute_result"
    }
   ],
   "source": [
    "# before fixing issue 90, any n between 8193 and 8195 doesn't work!\n",
    "n = 8193\n",
    "p = 1000\n",
    "x = simulate_random_snparray(undef, n, p, min_ma=0)\n",
    "\n",
    "A = SnpLinAlg{Float64}(x, model=ADDITIVE_MODEL, impute=false, center=false, scale=false)\n",
    "b = ones(n)\n",
    "c = A' * b\n",
    "ctrue = convert(Matrix{Float64}, A)' * b\n",
    "@test all(c .≈ ctrue)"
   ]
  },
  {
   "cell_type": "code",
   "execution_count": 89,
   "metadata": {
    "collapsed": false,
    "scrolled": true
   },
   "outputs": [
    {
     "name": "stdout",
     "output_type": "stream",
     "text": [
      "rows_filled = 14336\n",
      "M = 3584, Miter = 1, Mrem = 6144\n",
      "N = 2048, Niter = 1, Nrem = 0\n"
     ]
    },
    {
     "data": {
      "text/plain": [
       "\u001b[32m\u001b[1mTest Passed\u001b[22m\u001b[39m"
      ]
     },
     "execution_count": 89,
     "metadata": {},
     "output_type": "execute_result"
    }
   ],
   "source": [
    "using Revise\n",
    "using SnpArrays\n",
    "using LinearAlgebra\n",
    "using Random\n",
    "using LoopVectorization\n",
    "using MendelIHT\n",
    "using Test\n",
    "using BenchmarkTools\n",
    "\n",
    "# after fixing issue 90, if n is 2048, 4096 or 6144, still won't work!\n",
    "n = 8192+6144\n",
    "p = 2048\n",
    "x = simulate_random_snparray(undef, n, p) #defined in my package `MendelIHT.jl`\n",
    "\n",
    "# x[1, 8193] = 0x01\n",
    "# x[8193, 1] = 0x01\n",
    "\n",
    "A = SnpLinAlg{Float64}(x, model=ADDITIVE_MODEL, impute=true, center=false, scale=false)\n",
    "b = ones(n)\n",
    "c = A' * b\n",
    "ctrue = convert(Matrix{Float64}, x, impute=true, center=false, scale=false)' * b\n",
    "@test all(c .≈ ctrue)"
   ]
  },
  {
   "cell_type": "code",
   "execution_count": 4,
   "metadata": {
    "collapsed": false
   },
   "outputs": [
    {
     "name": "stdout",
     "output_type": "stream",
     "text": [
      "all(isapprox(c, ctrue, atol = 1.0e-7)) = true\n"
     ]
    },
    {
     "data": {
      "text/plain": [
       "true"
      ]
     },
     "execution_count": 4,
     "metadata": {},
     "output_type": "execute_result"
    }
   ],
   "source": [
    "model = ADDITIVE_MODEL\n",
    "center = true\n",
    "scale = true\n",
    "impute = true\n",
    "n = 8193\n",
    "p = 1000\n",
    "x = simulate_random_snparray(undef, n, p, min_ma=0)\n",
    "if impute\n",
    "    for j in 1:p, i in 1:n\n",
    "        rand() < 0.01 && (x[i, j] = 0x01) # create ~1% missings\n",
    "    end\n",
    "end\n",
    "\n",
    "A = SnpLinAlg{Float64}(x, model=model, impute=impute, center=center, scale=scale)\n",
    "b = rand(n)\n",
    "c = zeros(p)\n",
    "LinearAlgebra.mul!(c, Transpose(A), b)\n",
    "\n",
    "ctrue = convert(Matrix{Float64}, x, impute=impute, model=model, center=center, scale=scale)' * b\n",
    "@show all(isapprox(c, ctrue, atol=1e-7))"
   ]
  },
  {
   "cell_type": "markdown",
   "metadata": {
    "collapsed": true
   },
   "source": [
    "## Unroll for AtX"
   ]
  },
  {
   "cell_type": "code",
   "execution_count": 3,
   "metadata": {
    "collapsed": false
   },
   "outputs": [
    {
     "data": {
      "text/plain": [
       "true"
      ]
     },
     "execution_count": 3,
     "metadata": {},
     "output_type": "execute_result"
    }
   ],
   "source": [
    "using Revise\n",
    "using LinearAlgebra\n",
    "using Random\n",
    "using LoopVectorization\n",
    "using BenchmarkTools\n",
    "\n",
    "function my_gemm_noturbo!(out, s::Matrix{UInt8}, V)\n",
    "    fill!(out, zero(eltype(out)))\n",
    "    srows = size(s, 1)\n",
    "    scols = size(s, 2)\n",
    "    Vcols = size(V, 2)\n",
    "    k = srows >> 2\n",
    "    rem = srows & 3\n",
    "\n",
    "    for c in 1:Vcols\n",
    "        for i in 1:scols\n",
    "            for l in 1:k\n",
    "                block = s[l, i]\n",
    "                # unrolled loop\n",
    "                for p in 1:4\n",
    "                    Aij = (block >> (2 * (p - 1))) & 3\n",
    "                    out[i, c] += ((Aij >= 2) + (Aij == 3)) * V[4 * (l - 1) + p, c]\n",
    "                end\n",
    "            end\n",
    "        end\n",
    "    end\n",
    "    # TODO handle remainder\n",
    "end\n",
    "\n",
    "# unrolled loop crashes julia\n",
    "function my_gemm_unroll!(out, s::Matrix{UInt8}, V)\n",
    "    srows = size(s, 1)\n",
    "    scols = size(s, 2)\n",
    "    Vcols = size(V, 2)\n",
    "    k = srows >> 2\n",
    "    rem = srows & 3\n",
    "\n",
    "    @avx for c in 1:Vcols\n",
    "        for i in 1:scols\n",
    "            for l in 1:k\n",
    "                block = s[l, i]\n",
    "                # unrolled loop\n",
    "                for p in 1:4\n",
    "                    Aij = (block >> (2 * (p - 1))) & 3\n",
    "                    out[i, c] += ((Aij >= 2) + (Aij == 3)) * V[4 * (l - 1) + p, c]\n",
    "                end\n",
    "            end\n",
    "        end\n",
    "    end\n",
    "    # TODO handle remainder\n",
    "end\n",
    "\n",
    "# manually unroll gives wrong answers\n",
    "function my_gemm_manuel_unroll!(out, s::Matrix{UInt8}, V)\n",
    "    srows = size(s, 1)\n",
    "    scols = size(s, 2)\n",
    "    Vcols = size(V, 2)\n",
    "    k = srows >> 2\n",
    "    rem = srows & 3\n",
    "\n",
    "    @avx for c in 1:Vcols\n",
    "        for i in 1:scols\n",
    "            for l in 1:k\n",
    "                block = s[l, i]\n",
    "                # unrolled loop\n",
    "                p = 1\n",
    "                Aij = (block >> (2 * (p - 1))) & 3\n",
    "                out[i, c] += ((Aij >= 2) + (Aij == 3)) * V[4 * (l - 1) + p, c]\n",
    "                p = 2\n",
    "                Aij = (block >> (2 * (p - 1))) & 3\n",
    "                out[i, c] += ((Aij >= 2) + (Aij == 3)) * V[4 * (l - 1) + p, c]\n",
    "                p = 3\n",
    "                Aij = (block >> (2 * (p - 1))) & 3\n",
    "                out[i, c] += ((Aij >= 2) + (Aij == 3)) * V[4 * (l - 1) + p, c]\n",
    "                p = 4\n",
    "                Aij = (block >> (2 * (p - 1))) & 3\n",
    "                out[i, c] += ((Aij >= 2) + (Aij == 3)) * V[4 * (l - 1) + p, c]\n",
    "            end\n",
    "        end\n",
    "    end\n",
    "    # TODO handle remainder\n",
    "end\n",
    "\n",
    "out_true = zeros(10, 10)\n",
    "out_test1 = zeros(10, 10)\n",
    "out_test2 = zeros(10, 10)\n",
    "s = rand(UInt8, 100, 10)\n",
    "V = rand(400, 10);\n",
    "\n",
    "my_gemm_noturbo!(out_true, s, V)\n",
    "my_gemm_unroll!(out_test1, s, V); all(out_test1 .≈ out_true)"
   ]
  },
  {
   "cell_type": "code",
   "execution_count": 23,
   "metadata": {
    "collapsed": false
   },
   "outputs": [
    {
     "data": {
      "text/plain": [
       "false"
      ]
     },
     "execution_count": 23,
     "metadata": {},
     "output_type": "execute_result"
    }
   ],
   "source": [
    "my_gemm_manuel_unroll!(out_test2, s, V); all(out_test2 .≈ out_true)"
   ]
  },
  {
   "cell_type": "code",
   "execution_count": 30,
   "metadata": {
    "collapsed": false
   },
   "outputs": [
    {
     "data": {
      "text/plain": [
       "my_gemm! (generic function with 2 methods)"
      ]
     },
     "execution_count": 30,
     "metadata": {},
     "output_type": "execute_result"
    }
   ],
   "source": [
    "using Revise\n",
    "using LinearAlgebra\n",
    "using Random\n",
    "using LoopVectorization\n",
    "using BenchmarkTools\n",
    "\n",
    "function my_gemm_rem!(out, s, V, μ, σinv, c)\n",
    "    maxp = size(V, 1)\n",
    "    l = 1\n",
    "    @avx for i in 1:size(out, 1)\n",
    "        block = s[1, i]\n",
    "        for p in 1:maxp\n",
    "            Aij = (block >> (2 * (p - 1))) & 3\n",
    "            out[i, c] += (((Aij >= 2) * 1.0 + (Aij == 3) * 1.0 + (Aij == 1) * μ[i]) *\n",
    "                V[4 * (l - 1) + p, c]) * σinv[i]\n",
    "        end\n",
    "    end\n",
    "end\n",
    "\n",
    "function my_gemm_noturbo!(out, s::Matrix{UInt8}, V, srows, scols, Vcols, μ)\n",
    "    k = srows >> 2\n",
    "    rem = srows & 3\n",
    "    fill!(out, 0)\n",
    "\n",
    "    for c in 1:Vcols\n",
    "        for i in 1:scols\n",
    "            for l in 1:k\n",
    "                block = s[l, i]\n",
    "                for p in 1:4\n",
    "                    Aij = (block >> (2 * (p - 1))) & 3\n",
    "                    out[i, c] += (((Aij >= 2) + (Aij == 3) + (Aij == 1) * μ[i]) *\n",
    "                        V[4 * (l - 1) + p, c])\n",
    "                end\n",
    "            end\n",
    "        end\n",
    "    end\n",
    "#     if rem != 0\n",
    "#         for c in 1:Vcols\n",
    "#             _snparray_AtX_additive_rem(out, @view(s[k + 1:k + 1, :]), \n",
    "#                 @view(V[4k + 1:end, :]), c, μ, σinv, c)\n",
    "#         end\n",
    "#     end\n",
    "    nothing\n",
    "end\n",
    "\n",
    "function my_gemm!(out, s::Matrix{UInt8}, V, srows, scols, Vcols, μ)\n",
    "    k = srows >> 2\n",
    "    rem = srows & 3\n",
    "    fill!(out, 0)\n",
    "\n",
    "    @avx for c in 1:Vcols\n",
    "        for i in 1:scols\n",
    "            for l in 1:k\n",
    "                block = s[l, i]\n",
    "                for p in 1:4\n",
    "                    Aij = (block >> (2 * (p - 1))) & 3\n",
    "                    out[i, c] += (((Aij >= 2) + (Aij == 3) + (Aij == 1) * μ[i]) *\n",
    "                        V[4 * (l - 1) + p, c])\n",
    "                end\n",
    "            end\n",
    "        end\n",
    "    end\n",
    "#     if rem != 0\n",
    "#         for c in 1:Vcols\n",
    "#             _snparray_AtX_additive_rem(out, @view(s[k + 1:k + 1, :]), \n",
    "#                 @view(V[4k + 1:end, :]), c, μ, σinv, c)\n",
    "#         end\n",
    "#     end\n",
    "    nothing\n",
    "end"
   ]
  },
  {
   "cell_type": "code",
   "execution_count": 31,
   "metadata": {
    "collapsed": false
   },
   "outputs": [
    {
     "data": {
      "text/plain": [
       "false"
      ]
     },
     "execution_count": 31,
     "metadata": {},
     "output_type": "execute_result"
    }
   ],
   "source": [
    "out_true = zeros(100, 100)\n",
    "out_test1 = zeros(100, 100)\n",
    "out_test2 = zeros(100, 100)\n",
    "μ = rand(100)\n",
    "s = rand(UInt8, 100, 100)\n",
    "V = rand(400, 100);\n",
    "\n",
    "my_gemm_noturbo!(out_true, s, V, 400, 100, 100, μ)\n",
    "my_gemm!(out_test1, s, V, 400, 100, 100, μ); all(out_test1 .≈ out_true)\n"
   ]
  },
  {
   "cell_type": "code",
   "execution_count": 32,
   "metadata": {
    "collapsed": false
   },
   "outputs": [
    {
     "data": {
      "text/plain": [
       "(155.5004938609506, 142.38538989036144)"
      ]
     },
     "execution_count": 32,
     "metadata": {},
     "output_type": "execute_result"
    }
   ],
   "source": [
    "out_test1[5], out_true[5]"
   ]
  },
  {
   "cell_type": "code",
   "execution_count": null,
   "metadata": {
    "collapsed": true
   },
   "outputs": [],
   "source": []
  }
 ],
 "metadata": {
  "@webio": {
   "lastCommId": null,
   "lastKernelId": null
  },
  "kernelspec": {
   "display_name": "Julia 1.6.0",
   "language": "julia",
   "name": "julia-1.6"
  },
  "language_info": {
   "file_extension": ".jl",
   "mimetype": "application/julia",
   "name": "julia",
   "version": "1.6.0"
  }
 },
 "nbformat": 4,
 "nbformat_minor": 2
}
