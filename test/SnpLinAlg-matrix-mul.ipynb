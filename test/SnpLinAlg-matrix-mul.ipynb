{
 "cells": [
  {
   "cell_type": "code",
   "execution_count": 1,
   "metadata": {
    "collapsed": false,
    "scrolled": true
   },
   "outputs": [
    {
     "name": "stderr",
     "output_type": "stream",
     "text": [
      "┌ Info: Precompiling SnpArrays [4e780e97-f5bf-4111-9dc4-b70aaf691b06]\n",
      "└ @ Base loading.jl:1317\n",
      "WARNING: could not import DataFrames.DataFrame! into SnpArrays\n",
      "┌ Info: Precompiling MendelIHT [921c7187-1484-5754-b919-5d3ed9ac03c4]\n",
      "└ @ Base loading.jl:1317\n"
     ]
    }
   ],
   "source": [
    "using Revise\n",
    "using SnpArrays\n",
    "using LinearAlgebra\n",
    "using Random\n",
    "using LoopVectorization\n",
    "using MendelIHT"
   ]
  },
  {
   "cell_type": "markdown",
   "metadata": {},
   "source": [
    "## No center/scale/impute"
   ]
  },
  {
   "cell_type": "code",
   "execution_count": 43,
   "metadata": {
    "collapsed": false
   },
   "outputs": [
    {
     "name": "stdout",
     "output_type": "stream",
     "text": [
      "M = 250, Miter = 0, Mrem = 250\n",
      "N = 1025, Niter = 1, Nrem = 1\n",
      "P = 1024, Piter = 1, Prem = 0\n"
     ]
    }
   ],
   "source": [
    "# x = SnpArray(SnpArrays.datadir(\"EUR_subset.bed\"))\n",
    "m = 1000\n",
    "n = 1025\n",
    "p = 1024\n",
    "x = simulate_random_snparray(undef, m, n)\n",
    "\n",
    "A = SnpLinAlg{Float64}(x, model=ADDITIVE_MODEL, impute=false, center=false, scale=false)\n",
    "B = ones(n, p)\n",
    "C = zeros(m, p)\n",
    "LinearAlgebra.mul!(C, A, B)"
   ]
  },
  {
   "cell_type": "code",
   "execution_count": 44,
   "metadata": {
    "collapsed": false
   },
   "outputs": [
    {
     "name": "stdout",
     "output_type": "stream",
     "text": [
      "all(C .≈ Ctrue) = true\n"
     ]
    },
    {
     "data": {
      "text/plain": [
       "true"
      ]
     },
     "execution_count": 44,
     "metadata": {},
     "output_type": "execute_result"
    }
   ],
   "source": [
    "Ctrue = convert(Matrix{Float64}, x, model=ADDITIVE_MODEL) * B\n",
    "@show all(C .≈ Ctrue)"
   ]
  },
  {
   "cell_type": "markdown",
   "metadata": {},
   "source": [
    "## Simple gemm kernel\n",
    "\n",
    "see https://github.com/JuliaSIMD/LoopVectorization.jl/issues/136"
   ]
  },
  {
   "cell_type": "code",
   "execution_count": 30,
   "metadata": {
    "collapsed": false
   },
   "outputs": [
    {
     "data": {
      "text/plain": [
       "256×1024 Matrix{Float64}:\n",
       " 66012.8  66641.7  65025.1  64186.5  …  62550.3  66977.2  62757.8  64928.9\n",
       " 65071.0  66994.6  64153.1  63523.2     59848.2  65712.0  60407.1  65453.8\n",
       " 63063.4  64976.7  62558.5  62178.4     60108.9  64247.2  59379.2  63561.1\n",
       " 67164.3  69165.1  66512.6  65626.3     62287.9  66759.9  63090.0  66733.7\n",
       " 64344.0  67225.5  62390.2  62855.4     61037.4  66694.4  60443.2  63421.1\n",
       " 66974.4  69101.0  65191.4  65199.6  …  62378.3  66368.3  62947.4  65874.6\n",
       " 67436.5  67708.1  66113.9  65659.2     62817.5  68048.3  64262.6  67750.7\n",
       " 67885.3  67859.0  66351.9  64965.0     63276.4  67816.0  63294.5  68540.1\n",
       " 66367.7  69754.9  65240.1  65074.8     63377.6  66524.2  62105.1  65863.2\n",
       " 66904.8  68131.1  65629.9  64834.6     61812.3  65100.7  62354.6  67237.5\n",
       " 64348.9  66867.6  64281.4  62161.7  …  63048.0  65335.2  62803.6  64806.2\n",
       " 63451.1  65376.0  63215.3  61829.6     58754.5  63450.4  60032.9  63124.4\n",
       " 68083.8  66956.7  65964.5  65147.8     62862.5  66294.5  64135.6  67155.6\n",
       "     ⋮                               ⋱      ⋮                      \n",
       " 67475.5  67919.8  65466.0  66250.6     64111.3  67328.2  63938.3  66202.2\n",
       " 65124.1  67103.0  63803.8  62460.4  …  61791.5  64388.0  62058.9  63784.1\n",
       " 65565.7  66944.0  64371.7  63973.4     60561.5  63968.8  60917.8  63600.6\n",
       " 62698.8  64703.7  61852.6  62688.7     59285.5  63343.0  59676.3  62480.0\n",
       " 65552.7  68257.4  64806.9  64718.9     62213.9  66265.0  64021.8  65799.5\n",
       " 67863.8  67995.5  65219.9  64650.5     62537.3  68282.4  63419.8  65472.7\n",
       " 65356.6  67446.3  65379.2  64165.1  …  61598.7  64854.6  61729.2  65356.7\n",
       " 63780.2  65750.4  63272.2  62226.0     61677.1  64906.9  60623.3  64361.7\n",
       " 65061.2  66775.9  63425.2  62750.8     59642.6  66435.8  61684.7  63515.4\n",
       " 64894.4  65903.4  63760.0  64758.7     60184.5  64453.2  61518.2  63832.5\n",
       " 65462.7  67788.4  64555.3  64891.3     62741.8  65854.8  61771.8  65228.5\n",
       " 68337.3  69073.5  67165.1  65999.3  …  64443.3  67672.1  64212.9  68202.1"
      ]
     },
     "execution_count": 30,
     "metadata": {},
     "output_type": "execute_result"
    }
   ],
   "source": [
    "# runs, but not testes for correctness\n",
    "function LinearAlgebra.mul!(C::Matrix{T}, A::Matrix{UInt8}, B::Vector{T}) where T \n",
    "    packedstride = size(A, 1)\n",
    "    m = size(A, 1)\n",
    "    n = size(A, 2)\n",
    "    q = size(B, 2)\n",
    "    # C[i, c] = A[i, j] * B[j, c] for j in 1:n\n",
    "    @avx for c in 1:n\n",
    "        for j in 1:q\n",
    "            for i in 1:m\n",
    "                l = 2 * ((i-1) & 3)\n",
    "                block = A[(j-1) * packedstride + ((i-1) >> 2) + 1]\n",
    "                Aij = (block >> l) & 3\n",
    "                C[i, c] += (((Aij >= 2) + (Aij >= 3))) * B[j, c]\n",
    "            end\n",
    "        end\n",
    "    end\n",
    "    y\n",
    "end\n",
    "n = 1024\n",
    "C = rand(n>>2, n)\n",
    "B = rand(n, n)\n",
    "A = rand(UInt8, (n>>2) + (n%4 != 0), n)\n",
    "mul!(C, A, B)\n",
    "C"
   ]
  },
  {
   "cell_type": "code",
   "execution_count": null,
   "metadata": {
    "collapsed": true
   },
   "outputs": [],
   "source": []
  }
 ],
 "metadata": {
  "@webio": {
   "lastCommId": null,
   "lastKernelId": null
  },
  "kernelspec": {
   "display_name": "Julia 1.6.0",
   "language": "julia",
   "name": "julia-1.6"
  },
  "language_info": {
   "file_extension": ".jl",
   "mimetype": "application/julia",
   "name": "julia",
   "version": "1.6.0"
  }
 },
 "nbformat": 4,
 "nbformat_minor": 2
}
