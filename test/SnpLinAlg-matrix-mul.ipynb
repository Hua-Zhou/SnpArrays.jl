{
 "cells": [
  {
   "cell_type": "code",
   "execution_count": 1,
   "metadata": {
    "collapsed": false,
    "scrolled": true
   },
   "outputs": [
    {
     "name": "stderr",
     "output_type": "stream",
     "text": [
      "┌ Info: Precompiling SnpArrays [4e780e97-f5bf-4111-9dc4-b70aaf691b06]\n",
      "└ @ Base loading.jl:1317\n",
      "WARNING: could not import DataFrames.DataFrame! into SnpArrays\n",
      "┌ Info: Precompiling MendelIHT [921c7187-1484-5754-b919-5d3ed9ac03c4]\n",
      "└ @ Base loading.jl:1317\n"
     ]
    }
   ],
   "source": [
    "using Revise\n",
    "using SnpArrays\n",
    "using LinearAlgebra\n",
    "using Random\n",
    "using LoopVectorization\n",
    "using MendelIHT"
   ]
  },
  {
   "cell_type": "markdown",
   "metadata": {},
   "source": [
    "## No center/scale/impute"
   ]
  },
  {
   "cell_type": "code",
   "execution_count": 108,
   "metadata": {
    "collapsed": false
   },
   "outputs": [
    {
     "name": "stdout",
     "output_type": "stream",
     "text": [
      "M = 1024, Miter = 1, Mrem = 0\n",
      "N = 1024, Niter = 1, Nrem = 0\n",
      "P = 1025, Piter = 1, Prem = 1\n",
      "vstep = 1024, vstep_log2 = 10\n",
      "all(C .≈ Ctrue) = false\n"
     ]
    },
    {
     "data": {
      "text/plain": [
       "false"
      ]
     },
     "execution_count": 108,
     "metadata": {},
     "output_type": "execute_result"
    }
   ],
   "source": [
    "# x = SnpArray(SnpArrays.datadir(\"EUR_subset.bed\"))\n",
    "m = 4097\n",
    "n = 1024\n",
    "p = 1025\n",
    "x = simulate_random_snparray(undef, m, n)\n",
    "\n",
    "A = SnpLinAlg{Float64}(x, model=ADDITIVE_MODEL, impute=false, center=false, scale=false)\n",
    "B = ones(n, p)\n",
    "C = zeros(m, p)\n",
    "LinearAlgebra.mul!(C, A, B)\n",
    "\n",
    "Ctrue = convert(Matrix{Float64}, x, model=ADDITIVE_MODEL) * B\n",
    "@show all(C .≈ Ctrue)\n"
   ]
  },
  {
   "cell_type": "code",
   "execution_count": 109,
   "metadata": {
    "collapsed": false
   },
   "outputs": [
    {
     "data": {
      "text/plain": [
       "4097×1025 Matrix{Float64}:\n",
       " 544.0  544.0  544.0  544.0  544.0  …  544.0  544.0  544.0  544.0  544.0\n",
       " 484.0  484.0  484.0  484.0  484.0     484.0  484.0  484.0  484.0  484.0\n",
       " 529.0  529.0  529.0  529.0  529.0     529.0  529.0  529.0  529.0  529.0\n",
       " 545.0  545.0  545.0  545.0  545.0     545.0  545.0  545.0  545.0  545.0\n",
       " 479.0  479.0  479.0  479.0  479.0     479.0  479.0  479.0  479.0  479.0\n",
       " 493.0  493.0  493.0  493.0  493.0  …  493.0  493.0  493.0  493.0  493.0\n",
       " 524.0  524.0  524.0  524.0  524.0     524.0  524.0  524.0  524.0  524.0\n",
       " 537.0  537.0  537.0  537.0  537.0     537.0  537.0  537.0  537.0  537.0\n",
       " 512.0  512.0  512.0  512.0  512.0     512.0  512.0  512.0  512.0  512.0\n",
       " 534.0  534.0  534.0  534.0  534.0     534.0  534.0  534.0  534.0  534.0\n",
       " 492.0  492.0  492.0  492.0  492.0  …  492.0  492.0  492.0  492.0  492.0\n",
       " 499.0  499.0  499.0  499.0  499.0     499.0  499.0  499.0  499.0  499.0\n",
       " 507.0  507.0  507.0  507.0  507.0     507.0  507.0  507.0  507.0  507.0\n",
       "   ⋮                                ⋱    ⋮                         \n",
       " 498.0  498.0  498.0  498.0  498.0  …  498.0  498.0  498.0  498.0  498.0\n",
       " 500.0  500.0  500.0  500.0  500.0     500.0  500.0  500.0  500.0  500.0\n",
       " 522.0  522.0  522.0  522.0  522.0     522.0  522.0  522.0  522.0  522.0\n",
       " 485.0  485.0  485.0  485.0  485.0     485.0  485.0  485.0  485.0  485.0\n",
       " 527.0  527.0  527.0  527.0  527.0     527.0  527.0  527.0  527.0  527.0\n",
       " 545.0  545.0  545.0  545.0  545.0  …  545.0  545.0  545.0  545.0  545.0\n",
       " 517.0  517.0  517.0  517.0  517.0     517.0  517.0  517.0  517.0  517.0\n",
       " 512.0  512.0  512.0  512.0  512.0     512.0  512.0  512.0  512.0  512.0\n",
       " 512.0  512.0  512.0  512.0  512.0     512.0  512.0  512.0  512.0  512.0\n",
       " 514.0  514.0  514.0  514.0  514.0     514.0  514.0  514.0  514.0  514.0\n",
       " 509.0  509.0  509.0  509.0  509.0  …  509.0  509.0  509.0  509.0  509.0\n",
       "   0.0    0.0    0.0    0.0    0.0       0.0    0.0    0.0    0.0    0.0"
      ]
     },
     "execution_count": 109,
     "metadata": {},
     "output_type": "execute_result"
    }
   ],
   "source": [
    "C"
   ]
  },
  {
   "cell_type": "code",
   "execution_count": 110,
   "metadata": {
    "collapsed": false
   },
   "outputs": [
    {
     "data": {
      "text/plain": [
       "4097×1025 Matrix{Float64}:\n",
       " 544.0  544.0  544.0  544.0  544.0  …  544.0  544.0  544.0  544.0  544.0\n",
       " 484.0  484.0  484.0  484.0  484.0     484.0  484.0  484.0  484.0  484.0\n",
       " 529.0  529.0  529.0  529.0  529.0     529.0  529.0  529.0  529.0  529.0\n",
       " 545.0  545.0  545.0  545.0  545.0     545.0  545.0  545.0  545.0  545.0\n",
       " 479.0  479.0  479.0  479.0  479.0     479.0  479.0  479.0  479.0  479.0\n",
       " 493.0  493.0  493.0  493.0  493.0  …  493.0  493.0  493.0  493.0  493.0\n",
       " 524.0  524.0  524.0  524.0  524.0     524.0  524.0  524.0  524.0  524.0\n",
       " 537.0  537.0  537.0  537.0  537.0     537.0  537.0  537.0  537.0  537.0\n",
       " 512.0  512.0  512.0  512.0  512.0     512.0  512.0  512.0  512.0  512.0\n",
       " 534.0  534.0  534.0  534.0  534.0     534.0  534.0  534.0  534.0  534.0\n",
       " 492.0  492.0  492.0  492.0  492.0  …  492.0  492.0  492.0  492.0  492.0\n",
       " 499.0  499.0  499.0  499.0  499.0     499.0  499.0  499.0  499.0  499.0\n",
       " 507.0  507.0  507.0  507.0  507.0     507.0  507.0  507.0  507.0  507.0\n",
       "   ⋮                                ⋱    ⋮                         \n",
       " 498.0  498.0  498.0  498.0  498.0  …  498.0  498.0  498.0  498.0  498.0\n",
       " 500.0  500.0  500.0  500.0  500.0     500.0  500.0  500.0  500.0  500.0\n",
       " 522.0  522.0  522.0  522.0  522.0     522.0  522.0  522.0  522.0  522.0\n",
       " 485.0  485.0  485.0  485.0  485.0     485.0  485.0  485.0  485.0  485.0\n",
       " 527.0  527.0  527.0  527.0  527.0     527.0  527.0  527.0  527.0  527.0\n",
       " 545.0  545.0  545.0  545.0  545.0  …  545.0  545.0  545.0  545.0  545.0\n",
       " 517.0  517.0  517.0  517.0  517.0     517.0  517.0  517.0  517.0  517.0\n",
       " 512.0  512.0  512.0  512.0  512.0     512.0  512.0  512.0  512.0  512.0\n",
       " 512.0  512.0  512.0  512.0  512.0     512.0  512.0  512.0  512.0  512.0\n",
       " 514.0  514.0  514.0  514.0  514.0     514.0  514.0  514.0  514.0  514.0\n",
       " 509.0  509.0  509.0  509.0  509.0  …  509.0  509.0  509.0  509.0  509.0\n",
       " 524.0  524.0  524.0  524.0  524.0     524.0  524.0  524.0  524.0  524.0"
      ]
     },
     "execution_count": 110,
     "metadata": {},
     "output_type": "execute_result"
    }
   ],
   "source": [
    "Ctrue"
   ]
  },
  {
   "cell_type": "code",
   "execution_count": 132,
   "metadata": {
    "collapsed": false
   },
   "outputs": [
    {
     "name": "stdout",
     "output_type": "stream",
     "text": [
      "M = 1023, Miter = 0, Mrem = 253, rows_filled = 4093 \n"
     ]
    },
    {
     "data": {
      "text/plain": [
       "\u001b[32m\u001b[1mTest Passed\u001b[22m\u001b[39m"
      ]
     },
     "execution_count": 132,
     "metadata": {},
     "output_type": "execute_result"
    }
   ],
   "source": [
    "using Revise\n",
    "using SnpArrays\n",
    "using LinearAlgebra\n",
    "using Random\n",
    "using LoopVectorization\n",
    "using MendelIHT\n",
    "using Test\n",
    "\n",
    "# any n between 4097 and 4099 doesn't work!\n",
    "n = 4093\n",
    "p = 10000\n",
    "x = simulate_random_snparray(undef, n, p, min_ma=0)\n",
    "\n",
    "A = SnpLinAlg{Float64}(x, model=ADDITIVE_MODEL, impute=false, center=false, scale=false)\n",
    "b = ones(p)\n",
    "c = A * b\n",
    "ctrue = convert(Matrix{Float64}, A) * b\n",
    "@test all(c .≈ ctrue)"
   ]
  },
  {
   "cell_type": "code",
   "execution_count": null,
   "metadata": {
    "collapsed": true
   },
   "outputs": [],
   "source": [
    "# any n between 4097 and 4099 doesn't work!\n",
    "n = 4093\n",
    "p = 10000\n",
    "x = simulate_random_snparray(undef, n, p, min_ma=0)\n",
    "\n",
    "A = SnpLinAlg{Float64}(x, model=ADDITIVE_MODEL, impute=false, center=false, scale=false)\n",
    "b = ones(p)\n",
    "c = A * b\n",
    "ctrue = convert(Matrix{Float64}, A) * b\n",
    "@test all(c .≈ ctrue)"
   ]
  }
 ],
 "metadata": {
  "@webio": {
   "lastCommId": null,
   "lastKernelId": null
  },
  "kernelspec": {
   "display_name": "Julia 1.6.0",
   "language": "julia",
   "name": "julia-1.6"
  },
  "language_info": {
   "file_extension": ".jl",
   "mimetype": "application/julia",
   "name": "julia",
   "version": "1.6.0"
  }
 },
 "nbformat": 4,
 "nbformat_minor": 2
}
