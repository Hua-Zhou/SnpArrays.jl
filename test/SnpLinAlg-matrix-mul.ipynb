{
 "cells": [
  {
   "cell_type": "code",
   "execution_count": 1,
   "metadata": {
    "collapsed": false,
    "scrolled": true
   },
   "outputs": [
    {
     "name": "stderr",
     "output_type": "stream",
     "text": [
      "┌ Info: Precompiling SnpArrays [4e780e97-f5bf-4111-9dc4-b70aaf691b06]\n",
      "└ @ Base loading.jl:1317\n",
      "WARNING: could not import DataFrames.DataFrame! into SnpArrays\n",
      "┌ Info: Precompiling MendelIHT [921c7187-1484-5754-b919-5d3ed9ac03c4]\n",
      "└ @ Base loading.jl:1317\n"
     ]
    }
   ],
   "source": [
    "using Revise\n",
    "using SnpArrays\n",
    "using LinearAlgebra\n",
    "using Random\n",
    "using LoopVectorization\n",
    "using MendelIHT"
   ]
  },
  {
   "cell_type": "markdown",
   "metadata": {},
   "source": [
    "## No center/scale/impute"
   ]
  },
  {
   "cell_type": "code",
   "execution_count": 13,
   "metadata": {
    "collapsed": false
   },
   "outputs": [
    {
     "name": "stdout",
     "output_type": "stream",
     "text": [
      "M = 256, Miter = 0, Mrem = 256\n",
      "N = 1025, Niter = 1, Nrem = 1\n",
      "P = 2000, Piter = 1, Prem = 976\n"
     ]
    }
   ],
   "source": [
    "# x = SnpArray(SnpArrays.datadir(\"EUR_subset.bed\"))\n",
    "m = 1024 \n",
    "n = 1025\n",
    "p = 2000\n",
    "x = simulate_random_snparray(undef, m, n)\n",
    "\n",
    "A = SnpLinAlg{Float64}(x, model=ADDITIVE_MODEL, impute=false, center=false, scale=false)\n",
    "B = ones(n, p)\n",
    "C = zeros(m, p)\n",
    "LinearAlgebra.mul!(C, A, B)"
   ]
  },
  {
   "cell_type": "code",
   "execution_count": 14,
   "metadata": {
    "collapsed": false
   },
   "outputs": [
    {
     "name": "stdout",
     "output_type": "stream",
     "text": [
      "all(C .≈ Ctrue) = true\n"
     ]
    },
    {
     "data": {
      "text/plain": [
       "true"
      ]
     },
     "execution_count": 14,
     "metadata": {},
     "output_type": "execute_result"
    }
   ],
   "source": [
    "Ctrue = convert(Matrix{Float64}, x, model=ADDITIVE_MODEL) * B\n",
    "@show all(C .≈ Ctrue)"
   ]
  },
  {
   "cell_type": "code",
   "execution_count": null,
   "metadata": {
    "collapsed": true
   },
   "outputs": [],
   "source": []
  }
 ],
 "metadata": {
  "@webio": {
   "lastCommId": null,
   "lastKernelId": null
  },
  "kernelspec": {
   "display_name": "Julia 1.6.0",
   "language": "julia",
   "name": "julia-1.6"
  },
  "language_info": {
   "file_extension": ".jl",
   "mimetype": "application/julia",
   "name": "julia",
   "version": "1.6.0"
  }
 },
 "nbformat": 4,
 "nbformat_minor": 2
}
